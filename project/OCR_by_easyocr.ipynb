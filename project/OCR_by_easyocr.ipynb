{
  "cells": [
    {
      "cell_type": "code",
      "execution_count": null,
      "id": "O3gSzEeT5Fu9",
      "metadata": {
        "id": "O3gSzEeT5Fu9"
      },
      "outputs": [],
      "source": [
        "!pip install easyocr"
      ]
    },
    {
      "cell_type": "code",
      "execution_count": null,
      "id": "3698304c",
      "metadata": {
        "id": "3698304c"
      },
      "outputs": [],
      "source": [
        "import numpy as np\n",
        "import imutils\n",
        "import cv2\n",
        "import pandas as pd\n",
        "from easyocr import Reader"
      ]
    },
    {
      "cell_type": "code",
      "source": [
        "# 검출 영역 좌표로 지정\n",
        "positions = [927, 163, 1003, 239],[1044, 165, 1093, 214],[1137, 170, 1178, 211],[792, 475, 869, 552],[793, 1306, 878, 1391],[794,1225,878,1292],[795, 1585, 875, 1665],[242, 737, 327, 822],[242, 609, 321, 688],[243, 479, 324, 560],[240, 546, 321, 627],[795, 1116, 874, 1195],[796, 1522, 874, 1600],[795, 570, 866, 641],[240, 1184, 299, 1243],[240, 1120, 301, 1181],[795, 1455, 875, 1535],[795, 988, 856, 1049],[794, 920, 854, 980],[795, 857, 854, 916],[793, 726, 851, 784],[794, 791, 852, 849],[239, 1251, 301, 1313],[243, 869, 322, 948],[243, 802, 325, 884]"
      ],
      "metadata": {
        "id": "14qr23RNYaMq"
      },
      "id": "14qr23RNYaMq",
      "execution_count": null,
      "outputs": []
    },
    {
      "cell_type": "code",
      "execution_count": null,
      "id": "7eed4222",
      "metadata": {
        "id": "7eed4222"
      },
      "outputs": [],
      "source": [
        "# align 함수 정의\n",
        "\n",
        "def align_images(image, template, maxFeatures=500, keepPercent=0.2, debug=False):\n",
        "    imageGray = cv2.cvtColor(image, cv2.COLOR_BGR2GRAY)\n",
        "    templateGray = cv2.cvtColor(template, cv2.COLOR_BGR2GRAY)\n",
        "    orb = cv2.ORB_create(maxFeatures)\n",
        "    (kpsA, descsA) = orb.detectAndCompute(imageGray, None)\n",
        "    (kpsB, descsB) = orb.detectAndCompute(templateGray, None)\n",
        "\n",
        "    method = cv2.DESCRIPTOR_MATCHER_BRUTEFORCE_HAMMING\n",
        "    matcher = cv2.DescriptorMatcher_create(method)\n",
        "    matches = matcher.match(descsA, descsB, None)\n",
        "\n",
        "    matches = sorted(matches, key=lambda x:x.distance)\n",
        "\n",
        "    keep = int(len(matches) * keepPercent)\n",
        "    matches = matches[:keep]\n",
        "\n",
        "    if debug:\n",
        "        matchedVis = cv2.drawMatches(image, kpsA, template, kpsB,\n",
        "            matches, None)\n",
        "        matchedVis = imutils.resize(matchedVis, width=1000)\n",
        "        cv2.imshow(\"Matched Keypoints\", matchedVis)\n",
        "        cv2.waitKey(0)\n",
        "    ptsA = np.zeros((len(matches), 2), dtype=\"float\")\n",
        "    ptsB = np.zeros((len(matches), 2), dtype=\"float\")\n",
        "\n",
        "    for (i, m) in enumerate(matches):\n",
        "        ptsA[i] = kpsA[m.queryIdx].pt\n",
        "        ptsB[i] = kpsB[m.trainIdx].pt\n",
        "        \n",
        "    (H, mask) = cv2.findHomography(ptsA, ptsB, method=cv2.RANSAC)\n",
        "    (h, w) = template.shape[:2]\n",
        "    aligned = cv2.warpPerspective(image, H, (w, h))\n",
        "\n",
        "    return aligned"
      ]
    },
    {
      "cell_type": "code",
      "execution_count": null,
      "id": "9644c2b2",
      "metadata": {
        "id": "9644c2b2"
      },
      "outputs": [],
      "source": [
        "# align 실행\n",
        "\n",
        "image = cv2.imread(\"hs.jpeg\",) #이미지\n",
        "template = cv2.imread(\"template_final.jpeg\") #템플릿\n",
        "\n",
        "aligned_1 = align_images(image, template, debug=True) #첫번째 align\n",
        "aligned_2 = align_images(aligned_1, template, debug=True) #두번째 align\n",
        "\n",
        "stacked = np.hstack([aligned_1, template])\n",
        "\n",
        "overlay = template.copy()\n",
        "\n",
        "output = aligned_2.copy()\n",
        "\n",
        "# show the two output image alignment visualizations\n",
        "cv2.imshow(\"Image Alignment Stacked\", stacked)\n",
        "cv2.imshow(\"Image Alignment Overlay\", output)\n",
        "cv2.waitKey(0)\n",
        "cv2.destroyAllWindows()"
      ]
    },
    {
      "cell_type": "code",
      "execution_count": null,
      "id": "8ed9971e",
      "metadata": {
        "id": "8ed9971e"
      },
      "outputs": [],
      "source": [
        "# easyocr 설정\n",
        "\n",
        "langs = ['en','ko']\n",
        "reader = Reader(lang_list=langs, gpu=True)"
      ]
    },
    {
      "cell_type": "code",
      "execution_count": null,
      "id": "2367acdf",
      "metadata": {
        "id": "2367acdf"
      },
      "outputs": [],
      "source": [
        "# 읽어오기 (text recognition)\n",
        "\n",
        "roi = []\n",
        "result = []\n",
        "\n",
        "for l in positions:\n",
        "    im = output[l[1]:l[3],l[0]:l[2]]\n",
        "    \n",
        "    roi.append(im)\n",
        "    text = reader.readtext(im)\n",
        "    \n",
        "    if text == []:\n",
        "      result.append(text)\n",
        "      continue\n",
        "\n",
        "    result.append(text)"
      ]
    },
    {
      "cell_type": "code",
      "execution_count": null,
      "id": "95f7e310",
      "metadata": {
        "id": "95f7e310"
      },
      "outputs": [],
      "source": [
        "km = []\n",
        "for a in result:\n",
        "    if a == []: # 빗나가면 그냥 지나가도록\n",
        "        km.append('')\n",
        "        continue\n",
        "    km.append(a[0][1])"
      ]
    },
    {
      "cell_type": "markdown",
      "id": "79d8d770",
      "metadata": {
        "id": "79d8d770"
      },
      "source": [
        "# 후처리"
      ]
    },
    {
      "cell_type": "code",
      "execution_count": null,
      "id": "QwPWa0LyBNNp",
      "metadata": {
        "id": "QwPWa0LyBNNp"
      },
      "outputs": [],
      "source": [
        "for i in range(len(km)):\n",
        "  if km[i] == '':\n",
        "    km[i] = 'nan'\n",
        "    \n",
        "    \n",
        "# km이라는 리스트 안에 있는 원소가 ''이면 'nan'으로 대체"
      ]
    },
    {
      "cell_type": "code",
      "execution_count": null,
      "id": "6a0730ea",
      "metadata": {
        "id": "6a0730ea"
      },
      "outputs": [],
      "source": [
        "for i in range(4,len(km)):\n",
        "    t = km[i]\n",
        "    if type(t)== str:\n",
        "        if ('미' in t)or ('시' in t) or ('행' in t) is True:\n",
        "            km[i] = '미시행'\n",
        "bmi = km[16]\n",
        "rate = str(km[4])\n",
        "km = [str(km[i])[:3] for i in range(len(km))]\n",
        "km[16] = bmi[:4]\n",
        "km[4] = rate[:5]\n",
        "\n",
        "#이름, 성별, 나이를 제외한 모든 항목에서 미 / 시 / 행 중 하나라도 검출되면 그 항목값을 미시행으로 바꿔줌"
      ]
    },
    {
      "cell_type": "code",
      "execution_count": null,
      "id": "06f868dd",
      "metadata": {
        "id": "06f868dd"
      },
      "outputs": [],
      "source": [
        "for i in range(len(km)):\n",
        "    \n",
        "    if type(km[i])==str:\n",
        "        km[i] = km[i].replace('g','9')\n",
        "        km[i] = km[i].replace('ㅇ','0')\n",
        "        km[i] = km[i].replace('o','0')\n",
        "        km[i] = km[i].replace('O','0')\n",
        "        km[i] = km[i].replace('G','6')\n",
        "        km[i] = km[i].replace('b','6')\n",
        "        km[i] = km[i].replace(',','.')\n",
        "        km[i] = km[i].replace('I','7')\n",
        "        \n",
        "# 오인식되는 패턴을 찾아 직접 바꾸어줌"
      ]
    },
    {
      "cell_type": "code",
      "execution_count": null,
      "id": "847738d1",
      "metadata": {
        "id": "847738d1"
      },
      "outputs": [],
      "source": [
        "import re\n",
        "\n",
        "for i in range(3,5): \n",
        "    if km[i] in ['미시행','nan']:\n",
        "        continue\n",
        "    if i in [4,11,16]:\n",
        "        numbers = re.findall(r'\\d+', km[i])\n",
        "        km[i] = '.'.join(numbers)\n",
        "    else:\n",
        "        numbers = re.findall(r'\\d',km[i])\n",
        "        km[i] = ''.join(numbers)\n",
        "    if (len(km[i]) == 3) & (km[i][0]=='7'):\n",
        "        km[i] = '1'+str(km[i][1:])\n",
        "        \n",
        "for i in range(6,len(km)): \n",
        "    if km[i] in ['미시행','nan']:\n",
        "        continue\n",
        "    if i in [4,11,16]:\n",
        "        numbers = re.findall(r'\\d+', km[i])\n",
        "        km[i] = '.'.join(numbers)\n",
        "    else:\n",
        "        numbers = re.findall(r'\\d',km[i])\n",
        "        km[i] = ''.join(numbers)\n",
        "    if (len(km[i]) == 3) & (km[i][0]=='7'):\n",
        "        km[i] = '1'+str(km[i][1:])"
      ]
    },
    {
      "cell_type": "code",
      "execution_count": null,
      "id": "YLdoFrSoA_-_",
      "metadata": {
        "id": "YLdoFrSoA_-_"
      },
      "outputs": [],
      "source": [
        "km"
      ]
    },
    {
      "cell_type": "code",
      "execution_count": null,
      "id": "63f9b1f8",
      "metadata": {
        "id": "63f9b1f8"
      },
      "outputs": [],
      "source": [
        "if km[11] != '미시행':\n",
        "    if float(km[11]) > 5:\n",
        "        km[11] = str(float(km[11])/10)\n",
        "        \n",
        "if km[13] != '미시행':\n",
        "    if float(km[13]) >= 100:\n",
        "        km[13] = str(km[13][:1])\n",
        "    if float(km[13]) > 20:\n",
        "        km[13] = str(float(km[13])/10)"
      ]
    },
    {
      "cell_type": "code",
      "execution_count": null,
      "id": "16070a15",
      "metadata": {
        "id": "16070a15"
      },
      "outputs": [],
      "source": [
        "import os\n",
        "\n",
        "name = ['이름','성별','나이','공복혈당','사구체여과율','요단백(정상/악양성/+1/+2/+3/+4)','중성지방','총콜레스테롤','최고-최저 혈압','수축기혈압','이완기혈압','크레아티닌','허리둘레','HbA1c','ALT','AST','BMI','FEV1/FVC','FEV1(L)','FEV1(%)','FVC(%)','FVC(L)','GTP','HDL','LDL']\n",
        "idx = list(range(1,4)) + list(range(13,35))\n",
        "\n",
        "\n",
        "df_final = pd.DataFrame({'순번':idx,'항목':name,'수치':km})\n",
        "\n",
        "if not os.path.exists('/Users/daeun/Desktop/test_6.csv'):\n",
        "    df_final.to_csv('/Users/daeun/Desktop/test_6.csv',mode='w', encoding='utf-8-sig')\n",
        "else:\n",
        "    df_final.to_csv('/Users/daeun/Desktop/test_6.csv',mode='a', encoding='utf-8-sig', header=False)"
      ]
    }
  ],
  "metadata": {
    "accelerator": "GPU",
    "colab": {
      "provenance": []
    },
    "gpuClass": "standard",
    "kernelspec": {
      "display_name": "Python 3",
      "language": "python",
      "name": "python3"
    },
    "language_info": {
      "codemirror_mode": {
        "name": "ipython",
        "version": 3
      },
      "file_extension": ".py",
      "mimetype": "text/x-python",
      "name": "python",
      "nbconvert_exporter": "python",
      "pygments_lexer": "ipython3",
      "version": "3.8.8"
    }
  },
  "nbformat": 4,
  "nbformat_minor": 5
}