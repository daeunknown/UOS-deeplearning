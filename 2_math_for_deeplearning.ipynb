{
  "cells": [
    {
      "cell_type": "markdown",
      "metadata": {
        "id": "view-in-github",
        "colab_type": "text"
      },
      "source": [
        "<a href=\"https://colab.research.google.com/github/daeunknown/deeplearning-2022-summer/blob/main/2_math_for_deeplearning.ipynb\" target=\"_parent\"><img src=\"https://colab.research.google.com/assets/colab-badge.svg\" alt=\"Open In Colab\"/></a>"
      ]
    },
    {
      "cell_type": "code",
      "execution_count": null,
      "id": "5da92918",
      "metadata": {
        "id": "5da92918"
      },
      "outputs": [],
      "source": [
        "import numpy as np"
      ]
    },
    {
      "cell_type": "code",
      "execution_count": null,
      "id": "dc685752",
      "metadata": {
        "id": "dc685752",
        "outputId": "4a262fa2-040d-44ae-e908-166038c8331c"
      },
      "outputs": [
        {
          "name": "stdout",
          "output_type": "stream",
          "text": [
            "100\n"
          ]
        }
      ],
      "source": [
        "#원소의 총합\n",
        "\n",
        "a = np.array([36, 3, 42, 19])\n",
        "print(np.sum(a))"
      ]
    },
    {
      "cell_type": "code",
      "execution_count": null,
      "id": "90b2522a",
      "metadata": {
        "id": "90b2522a",
        "outputId": "d3335347-b89d-4576-fdfb-264b1b465988"
      },
      "outputs": [
        {
          "name": "stdout",
          "output_type": "stream",
          "text": [
            "221\n"
          ]
        }
      ],
      "source": [
        "#배열 원소곱의 총합\n",
        "\n",
        "b = np.array([1, 2, 2, 5])\n",
        "print(np.sum(a*b))"
      ]
    },
    {
      "cell_type": "code",
      "execution_count": null,
      "id": "83622d3e",
      "metadata": {
        "id": "83622d3e",
        "outputId": "da109183-e4b9-4947-b426-6ba665e20473"
      },
      "outputs": [
        {
          "name": "stdout",
          "output_type": "stream",
          "text": [
            "2.718281828459045\n"
          ]
        }
      ],
      "source": [
        "#자연상수를 거듭제곱의 함수로 정의\n",
        "\n",
        "def get_exp(x):\n",
        "    return np.exp(x)\n",
        "\n",
        "print(get_exp(1))"
      ]
    },
    {
      "cell_type": "code",
      "execution_count": null,
      "id": "9757d5aa",
      "metadata": {
        "id": "9757d5aa",
        "outputId": "632dac61-bc2d-42ff-8ffc-c2dccd21e3a9"
      },
      "outputs": [
        {
          "data": {
            "image/png": "[encoded data removed]",
            "text/plain": [
              "<Figure size 432x288 with 1 Axes>"
            ]
          },
          "metadata": {
            "needs_background": "light"
          },
          "output_type": "display_data"
        }
      ],
      "source": [
        "import matplotlib.pyplot as plt\n",
        "\n",
        "def draw_exp():\n",
        "    x = np.arange(-0.2, 3, 0.01)\n",
        "    \n",
        "    y2 = 2**x\n",
        "    y3 = 3**x\n",
        "    \n",
        "    plt.plot(x, y2, color = 'blue')\n",
        "    plt.text(2.6, 2**2.6+1, r\"$y=2^x$\")\n",
        "    \n",
        "    plt.plot(x, y3, color = 'blue')\n",
        "    plt.text(2.72, 3**2.7+1, r\"$y=3^x$\")\n",
        "    \n",
        "    ye = np.e**x\n",
        "    plt.plot(x, ye, color = 'green')\n",
        "    plt.text(2.54, np.e**2.6, r\"$y=e^x$\", color = 'green')\n",
        "    \n",
        "    plt.axhline(y=0, color = 'black', label = 'x')\n",
        "    plt.axvline(x=0, color = 'black', label = 'y')\n",
        "    \n",
        "    plt.show()\n",
        "    \n",
        "draw_exp()"
      ]
    },
    {
      "cell_type": "code",
      "execution_count": null,
      "id": "e3b5ef40",
      "metadata": {
        "id": "e3b5ef40",
        "outputId": "9cb70e86-4e28-44dd-d0e2-3f9f4119eb5b"
      },
      "outputs": [
        {
          "name": "stdout",
          "output_type": "stream",
          "text": [
            "0.0\n"
          ]
        }
      ],
      "source": [
        "#자연로그를 구하는 함수 정의\n",
        "\n",
        "def get_log(x):\n",
        "    return np.log(x)\n",
        "\n",
        "print(get_log(1))"
      ]
    },
    {
      "cell_type": "code",
      "execution_count": null,
      "id": "3f3294cc",
      "metadata": {
        "id": "3f3294cc",
        "outputId": "a5dbc3cd-464c-4126-fb1b-02f2756895f6"
      },
      "outputs": [
        {
          "data": {
            "image/png": "[encoded data removed]",
            "text/plain": [
              "<Figure size 432x288 with 1 Axes>"
            ]
          },
          "metadata": {
            "needs_background": "light"
          },
          "output_type": "display_data"
        }
      ],
      "source": [
        "def draw_log():\n",
        "    x = np.arange(0.1, 30, 0.01)\n",
        "    \n",
        "    ye = np.log(x)\n",
        "    y2 = np.log2(x)\n",
        "    y3 = np.log(x) / np.log(3)\n",
        "    \n",
        "    plt.plot(x, y2, color = 'blue')\n",
        "    plt.text(15, 4.2, r\"$y=log[2]x$\")\n",
        "    \n",
        "    plt.plot(x, y3, color = 'blue')\n",
        "    plt.text(25, 2.6, r\"$y=log[3]x$\")\n",
        "    \n",
        "    plt.plot(x, ye, color = 'green')\n",
        "    plt.text(20, 3.2, r\"$y=lnx$\", color = 'green')\n",
        "    \n",
        "    plt.axhline(y=0, color = 'black', label = 'x')\n",
        "    plt.axvline(x=0, color = 'black', label = 'y')\n",
        "    \n",
        "    plt.show()\n",
        "    \n",
        "draw_log()"
      ]
    },
    {
      "cell_type": "code",
      "execution_count": null,
      "id": "9663a25f",
      "metadata": {
        "id": "9663a25f"
      },
      "outputs": [],
      "source": [
        "#스칼라\n",
        "\n",
        "a = 1\n",
        "b = 1.2\n",
        "c = -0.3"
      ]
    },
    {
      "cell_type": "code",
      "execution_count": null,
      "id": "6b71cf78",
      "metadata": {
        "id": "6b71cf78"
      },
      "outputs": [],
      "source": [
        "#벡터\n",
        "a = np.array([1, 2, 3])"
      ]
    },
    {
      "cell_type": "code",
      "execution_count": null,
      "id": "2457ff35",
      "metadata": {
        "id": "2457ff35"
      },
      "outputs": [],
      "source": [
        "#행렬\n",
        "a = np.array([[1, 2, 3], \n",
        "              [4, 5, 6]])"
      ]
    },
    {
      "cell_type": "code",
      "execution_count": null,
      "id": "7a57df38",
      "metadata": {
        "id": "7a57df38"
      },
      "outputs": [],
      "source": [
        "#텐서\n",
        "a = np.array([[[0, 1, 2, 3],\n",
        "              [2, 3, 4, 5]],\n",
        "             \n",
        "             [[1, 2, 3, 4],\n",
        "             [4, 5, 6, 7]]])"
      ]
    },
    {
      "cell_type": "code",
      "execution_count": null,
      "id": "f34393ef",
      "metadata": {
        "id": "f34393ef",
        "outputId": "617fbf5e-ab4e-4c8a-df50-853b0b5b313a"
      },
      "outputs": [
        {
          "name": "stdout",
          "output_type": "stream",
          "text": [
            "[[ 1  2  3  4  5  6]\n",
            " [ 7  8  9 10 11 12]\n",
            " [13 14 15 16 17 18]\n",
            " [19 20 21 22 23 24]]\n",
            "[[[ 1  2  3  4]\n",
            "  [ 5  6  7  8]\n",
            "  [ 9 10 11 12]]\n",
            "\n",
            " [[13 14 15 16]\n",
            "  [17 18 19 20]\n",
            "  [21 22 23 24]]]\n",
            "[[[[ 1  2]\n",
            "   [ 3  4]\n",
            "   [ 5  6]]\n",
            "\n",
            "  [[ 7  8]\n",
            "   [ 9 10]\n",
            "   [11 12]]]\n",
            "\n",
            "\n",
            " [[[13 14]\n",
            "   [15 16]\n",
            "   [17 18]]\n",
            "\n",
            "  [[19 20]\n",
            "   [21 22]\n",
            "   [23 24]]]]\n"
          ]
        }
      ],
      "source": [
        "#텐서의 형태 변환\n",
        "b = np.array([1, 2, 3, 4, 5, 6, 7, 8, 9, 10, 11, 12,\n",
        "             13, 14, 15, 16, 17, 18, 19, 20, 21, 22, 23, 24])\n",
        "\n",
        "b = b.reshape(4, 6)\n",
        "print(b)\n",
        "\n",
        "c = b.reshape(2, 3, 4)\n",
        "print(c)\n",
        "\n",
        "d = b.reshape(2, 2, 3, 2)\n",
        "print(d)"
      ]
    },
    {
      "cell_type": "code",
      "execution_count": null,
      "id": "2aaf0ad0",
      "metadata": {
        "id": "2aaf0ad0",
        "outputId": "a0008389-4946-4f2b-9ec5-5a53e8c6419a"
      },
      "outputs": [
        {
          "name": "stdout",
          "output_type": "stream",
          "text": [
            "[[[1 2 3]\n",
            "  [2 0 0]\n",
            "  [3 0 0]\n",
            "  [4 0 0]]\n",
            "\n",
            " [[2 0 0]\n",
            "  [0 0 0]\n",
            "  [0 0 0]\n",
            "  [0 0 0]]]\n",
            "[[[1 2 3]\n",
            "  [2 0 0]]\n",
            "\n",
            " [[2 0 0]\n",
            "  [0 0 0]]\n",
            "\n",
            " [[3 0 0]\n",
            "  [0 0 0]]\n",
            "\n",
            " [[4 0 0]\n",
            "  [0 0 0]]]\n"
          ]
        }
      ],
      "source": [
        "#텐서 축 변환 - transpose 메소드\n",
        "c = np.array([[[1, 2, 3, 4],\n",
        "              [2, 0, 0, 0],\n",
        "              [3, 0, 0, 0]],\n",
        "              \n",
        "              [[2, 0, 0, 0],\n",
        "              [0, 0, 0, 0],\n",
        "              [0, 0, 0, 0]]])\n",
        "              \n",
        "#c는 (2, 3, 4) 텐서              \n",
        "              \n",
        "d = c.transpose(0, 2, 1)\n",
        "#0번째를 0번째로, 2번째를 1번째로, 1번째를 2번째로 변환하라 즉 (2, 3, 4) -> (2, 4, 3)\n",
        "print(d)\n",
        "\n",
        "e = d.transpose(1, 0, 2)\n",
        "#(2, 4, 3) -> (4, 2, 3)\n",
        "print(e)"
      ]
    },
    {
      "cell_type": "code",
      "execution_count": null,
      "id": "62639369",
      "metadata": {
        "id": "62639369",
        "outputId": "a9ffb3d3-6e67-4603-c813-644a89f5af4e"
      },
      "outputs": [
        {
          "name": "stdout",
          "output_type": "stream",
          "text": [
            "[[ 0  2  4]\n",
            " [ 6  8 10]\n",
            " [12 14 16]]\n"
          ]
        }
      ],
      "source": [
        "#스칼라와 행렬의 곱셈\n",
        "c = 2\n",
        "a = np.array([[0, 1, 2],\n",
        "             [3, 4, 5],\n",
        "             [6, 7, 8]])\n",
        "\n",
        "print(c*a)"
      ]
    },
    {
      "cell_type": "code",
      "execution_count": null,
      "id": "2a94eadb",
      "metadata": {
        "id": "2a94eadb",
        "outputId": "069b9da8-5f0f-4a38-ef37-c4198ca31df7"
      },
      "outputs": [
        {
          "name": "stdout",
          "output_type": "stream",
          "text": [
            "[[ 0  1  4]\n",
            " [ 6  0  5]\n",
            " [ 6 14  0]]\n",
            "[[0 2 4]\n",
            " [5 4 6]\n",
            " [7 9 8]]\n",
            "[[0 0 0]\n",
            " [1 4 4]\n",
            " [5 5 8]]\n",
            "[[0.         0.5        0.66666667]\n",
            " [1.         4.         2.5       ]\n",
            " [3.         2.33333333 8.        ]]\n",
            "[[0 1 2]\n",
            " [0 0 1]\n",
            " [0 1 0]]\n"
          ]
        }
      ],
      "source": [
        "#각 원소간의 곱셈\n",
        "#아다마르 곱\n",
        "\n",
        "a = np.array([[0, 1, 2],\n",
        "             [3, 4, 5],\n",
        "             [6, 7, 8]])\n",
        "\n",
        "b = np.array([[0, 1, 2],\n",
        "             [2, 0, 1],\n",
        "             [1, 2, 0]])\n",
        "\n",
        "print(a*b)\n",
        "print(a+b)\n",
        "print(a-b)\n",
        "print(a/(b+1))\n",
        "print(a%(b+1))"
      ]
    },
    {
      "cell_type": "code",
      "execution_count": null,
      "id": "feadacc8",
      "metadata": {
        "id": "feadacc8",
        "outputId": "3bf16c2c-06a0-404f-c541-7e1cd3daab53"
      },
      "outputs": [
        {
          "name": "stdout",
          "output_type": "stream",
          "text": [
            "[[12  6]\n",
            " [12  6]]\n"
          ]
        }
      ],
      "source": [
        "#행렬곱\n",
        "\n",
        "a = np.array([[1, 2, 3],\n",
        "            [1, 2, 3]])\n",
        "b = np.array([[2, 1],\n",
        "             [2, 1],\n",
        "             [2, 1]])\n",
        "\n",
        "print(np.dot(a, b))"
      ]
    },
    {
      "cell_type": "code",
      "execution_count": null,
      "id": "1de54bac",
      "metadata": {
        "id": "1de54bac",
        "outputId": "d724d7c7-400c-49de-8a45-2aa492705b9d"
      },
      "outputs": [
        {
          "name": "stdout",
          "output_type": "stream",
          "text": [
            "[ 6 12]\n"
          ]
        }
      ],
      "source": [
        "a = np.array([1, 2, 3])\n",
        "b = np.array([[1, 2],\n",
        "             [1, 2],\n",
        "             [1, 2]])\n",
        "\n",
        "print(np.dot(a, b))"
      ]
    },
    {
      "cell_type": "code",
      "execution_count": null,
      "id": "c86d99d1",
      "metadata": {
        "id": "c86d99d1",
        "outputId": "a4d5cb62-828c-4662-f807-ac7e7b5bacb5"
      },
      "outputs": [
        {
          "name": "stdout",
          "output_type": "stream",
          "text": [
            "[[1 4]\n",
            " [2 5]\n",
            " [3 6]]\n"
          ]
        }
      ],
      "source": [
        "#행렬 전치\n",
        "\n",
        "a = np.array([[1, 2, 3],\n",
        "             [4, 5, 6]])\n",
        "\n",
        "print(a.T)"
      ]
    },
    {
      "cell_type": "code",
      "execution_count": null,
      "id": "e5dffd17",
      "metadata": {
        "id": "e5dffd17",
        "outputId": "9de35780-5ec9-449a-85cf-63519394b94e"
      },
      "outputs": [
        {
          "name": "stdout",
          "output_type": "stream",
          "text": [
            "[[ 5  8]\n",
            " [ 8 14]]\n"
          ]
        }
      ],
      "source": [
        "a = np.array([[0, 1, 2],\n",
        "             [1, 2, 3]])\n",
        "\n",
        "b = np.array([[0, 1, 2],\n",
        "             [1, 2, 3]])\n",
        "\n",
        "print(np.dot(a, b.T))   #행렬을 transpose시켜 곱셈이 가능하게 만든 사례"
      ]
    },
    {
      "cell_type": "code",
      "execution_count": null,
      "id": "511946e5",
      "metadata": {
        "id": "511946e5"
      },
      "outputs": [],
      "source": [
        "#수치미분 함수 정의\n",
        "def numerical_diff(f, x):\n",
        "    h = 1e-4   #적절히 작은 h\n",
        "    return((f(x+h) - f(x-h)) / 2*h)"
      ]
    },
    {
      "cell_type": "code",
      "execution_count": null,
      "id": "12d66647",
      "metadata": {
        "id": "12d66647",
        "outputId": "6eacea6b-0ae8-4e8d-da2b-9e64ef65f236"
      },
      "outputs": [
        {
          "data": {
            "image/png": "[encoded data removed]",
            "text/plain": [
              "<Figure size 432x288 with 1 Axes>"
            ]
          },
          "metadata": {
            "needs_background": "light"
          },
          "output_type": "display_data"
        },
        {
          "data": {
            "text/plain": [
              "2.999999999986347e-09"
            ]
          },
          "execution_count": 47,
          "metadata": {},
          "output_type": "execute_result"
        }
      ],
      "source": [
        "#수치미분의 예\n",
        "def function_1(x):\n",
        "    return 0.01*x**2 + 0.1*x\n",
        "    \n",
        "x = np.arange(0.0, 20.0, 0.1)\n",
        "y = function_1(x)\n",
        "plt.xlabel(\"x\")\n",
        "plt.ylabel(\"y\")\n",
        "plt.plot(x, y)\n",
        "plt.show()\n",
        "\n",
        "numerical_diff(function_1, 5)\n",
        "numerical_diff(function_1, 10)"
      ]
    },
    {
      "cell_type": "markdown",
      "id": "3de6133c",
      "metadata": {
        "id": "3de6133c"
      },
      "source": [
        "## 미분\n",
        "\n",
        "연쇄법칙 ->\n",
        "전미분 -> 신경망의 아주 작은 변화량\n",
        "다변수의 연쇄법칙 -> 신경망에서 각 파라미터가 미치는 영향"
      ]
    },
    {
      "cell_type": "markdown",
      "id": "61777991",
      "metadata": {
        "id": "61777991"
      },
      "source": [
        "## 정규분포"
      ]
    },
    {
      "cell_type": "code",
      "execution_count": null,
      "id": "5e12f40a",
      "metadata": {
        "id": "5e12f40a",
        "outputId": "2102889d-b502-4c1d-fa50-65134d648aec"
      },
      "outputs": [
        {
          "name": "stdout",
          "output_type": "stream",
          "text": [
            "평균: 3.0\n",
            "표준편차: 1.4142135623730951\n"
          ]
        }
      ],
      "source": [
        "a = np.array([1, 2, 3, 4, 5])\n",
        "\n",
        "print(\"평균:\", np.average(a))\n",
        "print(\"표준편차:\", np.std(a))"
      ]
    },
    {
      "cell_type": "raw",
      "id": "82184329",
      "metadata": {
        "id": "82184329"
      },
      "source": [
        "x = np.random.normal(50, 10, 10000) #(평균, 표준편차, 변수 개수)\n",
        "\n",
        "plt.hist(x, bins = 50)\n",
        "\n",
        "print(\"평균:\", np.average(x))\n",
        "print(\"표준편차:\", np.std(x))"
      ]
    }
  ],
  "metadata": {
    "kernelspec": {
      "display_name": "Python 3",
      "language": "python",
      "name": "python3"
    },
    "language_info": {
      "codemirror_mode": {
        "name": "ipython",
        "version": 3
      },
      "file_extension": ".py",
      "mimetype": "text/x-python",
      "name": "python",
      "nbconvert_exporter": "python",
      "pygments_lexer": "ipython3",
      "version": "3.8.8"
    },
    "colab": {
      "provenance": [],
      "include_colab_link": true
    }
  },
  "nbformat": 4,
  "nbformat_minor": 5
}