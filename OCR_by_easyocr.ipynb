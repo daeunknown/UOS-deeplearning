{
  "cells": [
    {
      "cell_type": "markdown",
      "metadata": {
        "id": "view-in-github",
        "colab_type": "text"
      },
      "source": [
        "<a href=\"https://colab.research.google.com/github/daeunknown/deeplearning-2022-summer/blob/main/OCR_by_easyocr.ipynb\" target=\"_parent\"><img src=\"https://colab.research.google.com/assets/colab-badge.svg\" alt=\"Open In Colab\"/></a>"
      ]
    },
    {
      "cell_type": "code",
      "execution_count": null,
      "id": "O3gSzEeT5Fu9",
      "metadata": {
        "colab": {
          "base_uri": "https://localhost:8080/"
        },
        "id": "O3gSzEeT5Fu9",
        "outputId": "99a2baf3-d2c8-4c2d-d4df-5b93eeb26837"
      },
      "outputs": [
        {
          "output_type": "stream",
          "name": "stdout",
          "text": [
            "Looking in indexes: https://pypi.org/simple, https://us-python.pkg.dev/colab-wheels/public/simple/\n",
            "Collecting easyocr\n",
            "  Downloading easyocr-1.6.2-py3-none-any.whl (2.9 MB)\n",
            "\u001b[2K     \u001b[90m━━━━━━━━━━━━━━━━━━━━━━━━━━━━━━━━━━━━━━━━\u001b[0m \u001b[32m2.9/2.9 MB\u001b[0m \u001b[31m30.4 MB/s\u001b[0m eta \u001b[36m0:00:00\u001b[0m\n",
            "\u001b[?25hCollecting opencv-python-headless<=4.5.4.60\n",
            "  Downloading opencv_python_headless-4.5.4.60-cp38-cp38-manylinux_2_17_x86_64.manylinux2014_x86_64.whl (47.6 MB)\n",
            "\u001b[2K     \u001b[90m━━━━━━━━━━━━━━━━━━━━━━━━━━━━━━━━━━━━━━━━\u001b[0m \u001b[32m47.6/47.6 MB\u001b[0m \u001b[31m10.3 MB/s\u001b[0m eta \u001b[36m0:00:00\u001b[0m\n",
            "\u001b[?25hRequirement already satisfied: PyYAML in /usr/local/lib/python3.8/dist-packages (from easyocr) (6.0)\n",
            "Requirement already satisfied: Shapely in /usr/local/lib/python3.8/dist-packages (from easyocr) (2.0.0)\n",
            "Requirement already satisfied: Pillow in /usr/local/lib/python3.8/dist-packages (from easyocr) (7.1.2)\n",
            "Requirement already satisfied: torch in /usr/local/lib/python3.8/dist-packages (from easyocr) (1.13.1+cu116)\n",
            "Requirement already satisfied: torchvision>=0.5 in /usr/local/lib/python3.8/dist-packages (from easyocr) (0.14.1+cu116)\n",
            "Requirement already satisfied: scikit-image in /usr/local/lib/python3.8/dist-packages (from easyocr) (0.18.3)\n",
            "Collecting pyclipper\n",
            "  Downloading pyclipper-1.3.0.post4-cp38-cp38-manylinux_2_5_x86_64.manylinux1_x86_64.whl (619 kB)\n",
            "\u001b[2K     \u001b[90m━━━━━━━━━━━━━━━━━━━━━━━━━━━━━━━━━━━━━━\u001b[0m \u001b[32m619.2/619.2 KB\u001b[0m \u001b[31m24.2 MB/s\u001b[0m eta \u001b[36m0:00:00\u001b[0m\n",
            "\u001b[?25hCollecting ninja\n",
            "  Downloading ninja-1.11.1-py2.py3-none-manylinux_2_12_x86_64.manylinux2010_x86_64.whl (145 kB)\n",
            "\u001b[2K     \u001b[90m━━━━━━━━━━━━━━━━━━━━━━━━━━━━━━━━━━━━━━━\u001b[0m \u001b[32m146.0/146.0 KB\u001b[0m \u001b[31m3.1 MB/s\u001b[0m eta \u001b[36m0:00:00\u001b[0m\n",
            "\u001b[?25hRequirement already satisfied: numpy in /usr/local/lib/python3.8/dist-packages (from easyocr) (1.21.6)\n",
            "Requirement already satisfied: scipy in /usr/local/lib/python3.8/dist-packages (from easyocr) (1.7.3)\n",
            "Collecting python-bidi\n",
            "  Downloading python_bidi-0.4.2-py2.py3-none-any.whl (30 kB)\n",
            "Requirement already satisfied: requests in /usr/local/lib/python3.8/dist-packages (from torchvision>=0.5->easyocr) (2.25.1)\n",
            "Requirement already satisfied: typing-extensions in /usr/local/lib/python3.8/dist-packages (from torchvision>=0.5->easyocr) (4.4.0)\n",
            "Requirement already satisfied: six in /usr/local/lib/python3.8/dist-packages (from python-bidi->easyocr) (1.15.0)\n",
            "Requirement already satisfied: matplotlib!=3.0.0,>=2.0.0 in /usr/local/lib/python3.8/dist-packages (from scikit-image->easyocr) (3.2.2)\n",
            "Requirement already satisfied: tifffile>=2019.7.26 in /usr/local/lib/python3.8/dist-packages (from scikit-image->easyocr) (2022.10.10)\n",
            "Requirement already satisfied: PyWavelets>=1.1.1 in /usr/local/lib/python3.8/dist-packages (from scikit-image->easyocr) (1.4.1)\n",
            "Requirement already satisfied: networkx>=2.0 in /usr/local/lib/python3.8/dist-packages (from scikit-image->easyocr) (3.0)\n",
            "Requirement already satisfied: imageio>=2.3.0 in /usr/local/lib/python3.8/dist-packages (from scikit-image->easyocr) (2.9.0)\n",
            "Requirement already satisfied: cycler>=0.10 in /usr/local/lib/python3.8/dist-packages (from matplotlib!=3.0.0,>=2.0.0->scikit-image->easyocr) (0.11.0)\n",
            "Requirement already satisfied: pyparsing!=2.0.4,!=2.1.2,!=2.1.6,>=2.0.1 in /usr/local/lib/python3.8/dist-packages (from matplotlib!=3.0.0,>=2.0.0->scikit-image->easyocr) (3.0.9)\n",
            "Requirement already satisfied: python-dateutil>=2.1 in /usr/local/lib/python3.8/dist-packages (from matplotlib!=3.0.0,>=2.0.0->scikit-image->easyocr) (2.8.2)\n",
            "Requirement already satisfied: kiwisolver>=1.0.1 in /usr/local/lib/python3.8/dist-packages (from matplotlib!=3.0.0,>=2.0.0->scikit-image->easyocr) (1.4.4)\n",
            "Requirement already satisfied: certifi>=2017.4.17 in /usr/local/lib/python3.8/dist-packages (from requests->torchvision>=0.5->easyocr) (2022.12.7)\n",
            "Requirement already satisfied: chardet<5,>=3.0.2 in /usr/local/lib/python3.8/dist-packages (from requests->torchvision>=0.5->easyocr) (4.0.0)\n",
            "Requirement already satisfied: urllib3<1.27,>=1.21.1 in /usr/local/lib/python3.8/dist-packages (from requests->torchvision>=0.5->easyocr) (1.24.3)\n",
            "Requirement already satisfied: idna<3,>=2.5 in /usr/local/lib/python3.8/dist-packages (from requests->torchvision>=0.5->easyocr) (2.10)\n",
            "Installing collected packages: pyclipper, ninja, python-bidi, opencv-python-headless, easyocr\n",
            "  Attempting uninstall: opencv-python-headless\n",
            "    Found existing installation: opencv-python-headless 4.7.0.68\n",
            "    Uninstalling opencv-python-headless-4.7.0.68:\n",
            "      Successfully uninstalled opencv-python-headless-4.7.0.68\n",
            "Successfully installed easyocr-1.6.2 ninja-1.11.1 opencv-python-headless-4.5.4.60 pyclipper-1.3.0.post4 python-bidi-0.4.2\n"
          ]
        }
      ],
      "source": [
        "!pip install easyocr"
      ]
    },
    {
      "cell_type": "code",
      "execution_count": null,
      "id": "3698304c",
      "metadata": {
        "id": "3698304c"
      },
      "outputs": [],
      "source": [
        "import numpy as np\n",
        "import imutils\n",
        "import cv2\n",
        "import pandas as pd\n",
        "from easyocr import Reader"
      ]
    },
    {
      "cell_type": "code",
      "source": [
        "# 검출 영역 좌표로 지정\n",
        "positions = [927, 163, 1003, 239],[1044, 165, 1093, 214],[1137, 170, 1178, 211],[792, 475, 869, 552],[793, 1306, 878, 1391],[794,1225,878,1292],[795, 1585, 875, 1665],[242, 737, 327, 822],[242, 609, 321, 688],[243, 479, 324, 560],[240, 546, 321, 627],[795, 1116, 874, 1195],[796, 1522, 874, 1600],[795, 570, 866, 641],[240, 1184, 299, 1243],[240, 1120, 301, 1181],[795, 1455, 875, 1535],[795, 988, 856, 1049],[794, 920, 854, 980],[795, 857, 854, 916],[793, 726, 851, 784],[794, 791, 852, 849],[239, 1251, 301, 1313],[243, 869, 322, 948],[243, 802, 325, 884]"
      ],
      "metadata": {
        "id": "14qr23RNYaMq"
      },
      "id": "14qr23RNYaMq",
      "execution_count": null,
      "outputs": []
    },
    {
      "cell_type": "code",
      "execution_count": null,
      "id": "7eed4222",
      "metadata": {
        "id": "7eed4222"
      },
      "outputs": [],
      "source": [
        "# align 함수 정의\n",
        "\n",
        "def align_images(image, template, maxFeatures=500, keepPercent=0.2, debug=False):\n",
        "    imageGray = cv2.cvtColor(image, cv2.COLOR_BGR2GRAY)\n",
        "    templateGray = cv2.cvtColor(template, cv2.COLOR_BGR2GRAY)\n",
        "    orb = cv2.ORB_create(maxFeatures)\n",
        "    (kpsA, descsA) = orb.detectAndCompute(imageGray, None)\n",
        "    (kpsB, descsB) = orb.detectAndCompute(templateGray, None)\n",
        "\n",
        "    method = cv2.DESCRIPTOR_MATCHER_BRUTEFORCE_HAMMING\n",
        "    matcher = cv2.DescriptorMatcher_create(method)\n",
        "    matches = matcher.match(descsA, descsB, None)\n",
        "\n",
        "    matches = sorted(matches, key=lambda x:x.distance)\n",
        "\n",
        "    keep = int(len(matches) * keepPercent)\n",
        "    matches = matches[:keep]\n",
        "\n",
        "    if debug:\n",
        "        matchedVis = cv2.drawMatches(image, kpsA, template, kpsB,\n",
        "            matches, None)\n",
        "        matchedVis = imutils.resize(matchedVis, width=1000)\n",
        "        cv2.imshow(\"Matched Keypoints\", matchedVis)\n",
        "        cv2.waitKey(0)\n",
        "    ptsA = np.zeros((len(matches), 2), dtype=\"float\")\n",
        "    ptsB = np.zeros((len(matches), 2), dtype=\"float\")\n",
        "\n",
        "    for (i, m) in enumerate(matches):\n",
        "        ptsA[i] = kpsA[m.queryIdx].pt\n",
        "        ptsB[i] = kpsB[m.trainIdx].pt\n",
        "        \n",
        "    (H, mask) = cv2.findHomography(ptsA, ptsB, method=cv2.RANSAC)\n",
        "    (h, w) = template.shape[:2]\n",
        "    aligned = cv2.warpPerspective(image, H, (w, h))\n",
        "\n",
        "    return aligned"
      ]
    },
    {
      "cell_type": "code",
      "execution_count": null,
      "id": "9644c2b2",
      "metadata": {
        "id": "9644c2b2"
      },
      "outputs": [],
      "source": [
        "# align 실행\n",
        "\n",
        "image = cv2.imread(\"hs.jpeg\",) #이미지\n",
        "template = cv2.imread(\"template_final.jpeg\") #템플릿\n",
        "\n",
        "aligned_1 = align_images(image, template, debug=True) #첫번째 align\n",
        "aligned_2 = align_images(aligned_1, template, debug=True) #두번째 align\n",
        "\n",
        "stacked = np.hstack([aligned_1, template])\n",
        "\n",
        "overlay = template.copy()\n",
        "\n",
        "output = aligned_2.copy()\n",
        "\n",
        "# show the two output image alignment visualizations\n",
        "cv2.imshow(\"Image Alignment Stacked\", stacked)\n",
        "cv2.imshow(\"Image Alignment Overlay\", output)\n",
        "cv2.waitKey(0)\n",
        "cv2.destroyAllWindows()"
      ]
    },
    {
      "cell_type": "code",
      "execution_count": null,
      "id": "8ed9971e",
      "metadata": {
        "colab": {
          "base_uri": "https://localhost:8080/"
        },
        "id": "8ed9971e",
        "outputId": "4783ae26-ce96-4c8d-c3e1-a6e5852619e7"
      },
      "outputs": [
        {
          "name": "stderr",
          "output_type": "stream",
          "text": [
            "WARNING:easyocr.easyocr:CUDA not available - defaulting to CPU. Note: This module is much faster with a GPU.\n",
            "/usr/local/lib/python3.7/dist-packages/torchvision/models/_utils.py:253: UserWarning: Accessing the model URLs via the internal dictionary of the module is deprecated since 0.13 and will be removed in 0.15. Please access them via the appropriate Weights Enum instead.\n",
            "  \"Accessing the model URLs via the internal dictionary of the module is deprecated since 0.13 and will \"\n",
            "/usr/local/lib/python3.7/dist-packages/torchvision/models/_utils.py:209: UserWarning: The parameter 'pretrained' is deprecated since 0.13 and will be removed in 0.15, please use 'weights' instead.\n",
            "  f\"The parameter '{pretrained_param}' is deprecated since 0.13 and will be removed in 0.15, \"\n",
            "/usr/local/lib/python3.7/dist-packages/torchvision/models/_utils.py:223: UserWarning: Arguments other than a weight enum or `None` for 'weights' are deprecated since 0.13 and will be removed in 0.15. The current behavior is equivalent to passing `weights=None`.\n",
            "  warnings.warn(msg)\n"
          ]
        }
      ],
      "source": [
        "# easyocr 설정\n",
        "\n",
        "langs = ['en','ko']\n",
        "reader = Reader(lang_list=langs, gpu=True)"
      ]
    },
    {
      "cell_type": "code",
      "execution_count": null,
      "id": "2367acdf",
      "metadata": {
        "id": "2367acdf"
      },
      "outputs": [],
      "source": [
        "# 읽어오기 (text recognition)\n",
        "\n",
        "roi = []\n",
        "result = []\n",
        "\n",
        "for l in positions:\n",
        "    im = output[l[1]:l[3],l[0]:l[2]]\n",
        "    \n",
        "    roi.append(im)\n",
        "    text = reader.readtext(im)\n",
        "    \n",
        "    if text == []:\n",
        "      result.append(text)\n",
        "      continue\n",
        "\n",
        "    result.append(text)"
      ]
    },
    {
      "cell_type": "code",
      "execution_count": null,
      "id": "95f7e310",
      "metadata": {
        "id": "95f7e310"
      },
      "outputs": [],
      "source": [
        "km = []\n",
        "for a in result:\n",
        "    if a == []: # 빗나가면 그냥 지나가도록\n",
        "        km.append('')\n",
        "        continue\n",
        "    km.append(a[0][1])"
      ]
    },
    {
      "cell_type": "markdown",
      "id": "79d8d770",
      "metadata": {
        "id": "79d8d770"
      },
      "source": [
        "# 후처리"
      ]
    },
    {
      "cell_type": "code",
      "execution_count": null,
      "id": "QwPWa0LyBNNp",
      "metadata": {
        "id": "QwPWa0LyBNNp"
      },
      "outputs": [],
      "source": [
        "for i in range(len(km)):\n",
        "  if km[i] == '':\n",
        "    km[i] = 'nan'\n",
        "    \n",
        "    \n",
        "# km이라는 리스트 안에 있는 원소가 ''이면 'nan'으로 대체"
      ]
    },
    {
      "cell_type": "code",
      "execution_count": null,
      "id": "6a0730ea",
      "metadata": {
        "id": "6a0730ea"
      },
      "outputs": [],
      "source": [
        "for i in range(4,len(km)):\n",
        "    t = km[i]\n",
        "    if type(t)== str:\n",
        "        if ('미' in t)or ('시' in t) or ('행' in t) is True:\n",
        "            km[i] = '미시행'\n",
        "bmi = km[16]\n",
        "rate = str(km[4])\n",
        "km = [str(km[i])[:3] for i in range(len(km))]\n",
        "km[16] = bmi[:4]\n",
        "km[4] = rate[:5]\n",
        "\n",
        "#이름, 성별, 나이를 제외한 모든 항목에서 미 / 시 / 행 중 하나라도 검출되면 그 항목값을 미시행으로 바꿔줌"
      ]
    },
    {
      "cell_type": "code",
      "execution_count": null,
      "id": "06f868dd",
      "metadata": {
        "id": "06f868dd"
      },
      "outputs": [],
      "source": [
        "for i in range(len(km)):\n",
        "    \n",
        "    if type(km[i])==str:\n",
        "        km[i] = km[i].replace('g','9')\n",
        "        km[i] = km[i].replace('ㅇ','0')\n",
        "        km[i] = km[i].replace('o','0')\n",
        "        km[i] = km[i].replace('O','0')\n",
        "        km[i] = km[i].replace('G','6')\n",
        "        km[i] = km[i].replace('b','6')\n",
        "        km[i] = km[i].replace(',','.')\n",
        "        km[i] = km[i].replace('I','7')\n",
        "        \n",
        "# 오인식되는 패턴을 찾아 직접 바꾸어줌"
      ]
    },
    {
      "cell_type": "code",
      "execution_count": null,
      "id": "847738d1",
      "metadata": {
        "id": "847738d1"
      },
      "outputs": [],
      "source": [
        "import re\n",
        "\n",
        "for i in range(3,5): \n",
        "    if km[i] in ['미시행','nan']:\n",
        "        continue\n",
        "    if i in [4,11,16]:\n",
        "        numbers = re.findall(r'\\d+', km[i])\n",
        "        km[i] = '.'.join(numbers)\n",
        "    else:\n",
        "        numbers = re.findall(r'\\d',km[i])\n",
        "        km[i] = ''.join(numbers)\n",
        "    if (len(km[i]) == 3) & (km[i][0]=='7'):\n",
        "        km[i] = '1'+str(km[i][1:])\n",
        "        \n",
        "for i in range(6,len(km)): \n",
        "    if km[i] in ['미시행','nan']:\n",
        "        continue\n",
        "    if i in [4,11,16]:\n",
        "        numbers = re.findall(r'\\d+', km[i])\n",
        "        km[i] = '.'.join(numbers)\n",
        "    else:\n",
        "        numbers = re.findall(r'\\d',km[i])\n",
        "        km[i] = ''.join(numbers)\n",
        "    if (len(km[i]) == 3) & (km[i][0]=='7'):\n",
        "        km[i] = '1'+str(km[i][1:])"
      ]
    },
    {
      "cell_type": "code",
      "execution_count": null,
      "id": "YLdoFrSoA_-_",
      "metadata": {
        "colab": {
          "base_uri": "https://localhost:8080/"
        },
        "id": "YLdoFrSoA_-_",
        "outputId": "98af1649-abdd-4271-b913-91093ef95d38"
      },
      "outputs": [
        {
          "data": {
            "text/plain": [
              "['김예수',\n",
              " '여자',\n",
              " '35',\n",
              " '97',\n",
              " '38',\n",
              " '의양성',\n",
              " '43',\n",
              " '215',\n",
              " '37',\n",
              " '03',\n",
              " '66',\n",
              " '6.9',\n",
              " '62',\n",
              " '54',\n",
              " '221',\n",
              " '22',\n",
              " '19',\n",
              " '미시행',\n",
              " '미시행',\n",
              " '미시행',\n",
              " '미시행',\n",
              " '미시행',\n",
              " '27',\n",
              " '99',\n",
              " '87']"
            ]
          },
          "execution_count": 49,
          "metadata": {},
          "output_type": "execute_result"
        }
      ],
      "source": [
        "km"
      ]
    },
    {
      "cell_type": "code",
      "execution_count": null,
      "id": "63f9b1f8",
      "metadata": {
        "id": "63f9b1f8"
      },
      "outputs": [],
      "source": [
        "if km[11] != '미시행':\n",
        "    if float(km[11]) > 5:\n",
        "        km[11] = str(float(km[11])/10)\n",
        "        \n",
        "if km[13] != '미시행':\n",
        "    if float(km[13]) >= 100:\n",
        "        km[13] = str(km[13][:1])\n",
        "    if float(km[13]) > 20:\n",
        "        km[13] = str(float(km[13])/10)"
      ]
    },
    {
      "cell_type": "code",
      "execution_count": null,
      "id": "16070a15",
      "metadata": {
        "colab": {
          "base_uri": "https://localhost:8080/",
          "height": 375
        },
        "id": "16070a15",
        "outputId": "ac334d2c-b895-4fb5-f849-e7dcc4d59dc8"
      },
      "outputs": [
        {
          "ename": "FileNotFoundError",
          "evalue": "ignored",
          "output_type": "error",
          "traceback": [
            "\u001b[0;31m---------------------------------------------------------------------------\u001b[0m",
            "\u001b[0;31mFileNotFoundError\u001b[0m                         Traceback (most recent call last)",
            "\u001b[0;32m<ipython-input-51-1db01e72677c>\u001b[0m in \u001b[0;36m<module>\u001b[0;34m()\u001b[0m\n\u001b[1;32m      8\u001b[0m \u001b[0;34m\u001b[0m\u001b[0m\n\u001b[1;32m      9\u001b[0m \u001b[0;32mif\u001b[0m \u001b[0;32mnot\u001b[0m \u001b[0mos\u001b[0m\u001b[0;34m.\u001b[0m\u001b[0mpath\u001b[0m\u001b[0;34m.\u001b[0m\u001b[0mexists\u001b[0m\u001b[0;34m(\u001b[0m\u001b[0;34m'/Users/chohyeongjin/Desktop/test_6.csv'\u001b[0m\u001b[0;34m)\u001b[0m\u001b[0;34m:\u001b[0m\u001b[0;34m\u001b[0m\u001b[0;34m\u001b[0m\u001b[0m\n\u001b[0;32m---> 10\u001b[0;31m     \u001b[0mdf_final\u001b[0m\u001b[0;34m.\u001b[0m\u001b[0mto_csv\u001b[0m\u001b[0;34m(\u001b[0m\u001b[0;34m'/Users/chohyeongjin/Desktop/test_6.csv'\u001b[0m\u001b[0;34m,\u001b[0m\u001b[0mmode\u001b[0m\u001b[0;34m=\u001b[0m\u001b[0;34m'w'\u001b[0m\u001b[0;34m,\u001b[0m \u001b[0mencoding\u001b[0m\u001b[0;34m=\u001b[0m\u001b[0;34m'utf-8-sig'\u001b[0m\u001b[0;34m)\u001b[0m\u001b[0;34m\u001b[0m\u001b[0;34m\u001b[0m\u001b[0m\n\u001b[0m\u001b[1;32m     11\u001b[0m \u001b[0;32melse\u001b[0m\u001b[0;34m:\u001b[0m\u001b[0;34m\u001b[0m\u001b[0;34m\u001b[0m\u001b[0m\n\u001b[1;32m     12\u001b[0m     \u001b[0mdf_final\u001b[0m\u001b[0;34m.\u001b[0m\u001b[0mto_csv\u001b[0m\u001b[0;34m(\u001b[0m\u001b[0;34m'/Users/chohyeongjin/Desktop/test_6.csv'\u001b[0m\u001b[0;34m,\u001b[0m\u001b[0mmode\u001b[0m\u001b[0;34m=\u001b[0m\u001b[0;34m'a'\u001b[0m\u001b[0;34m,\u001b[0m \u001b[0mencoding\u001b[0m\u001b[0;34m=\u001b[0m\u001b[0;34m'utf-8-sig'\u001b[0m\u001b[0;34m,\u001b[0m \u001b[0mheader\u001b[0m\u001b[0;34m=\u001b[0m\u001b[0;32mFalse\u001b[0m\u001b[0;34m)\u001b[0m\u001b[0;34m\u001b[0m\u001b[0;34m\u001b[0m\u001b[0m\n",
            "\u001b[0;32m/usr/local/lib/python3.7/dist-packages/pandas/core/generic.py\u001b[0m in \u001b[0;36mto_csv\u001b[0;34m(self, path_or_buf, sep, na_rep, float_format, columns, header, index, index_label, mode, encoding, compression, quoting, quotechar, line_terminator, chunksize, date_format, doublequote, escapechar, decimal, errors, storage_options)\u001b[0m\n\u001b[1;32m   3480\u001b[0m             \u001b[0mdoublequote\u001b[0m\u001b[0;34m=\u001b[0m\u001b[0mdoublequote\u001b[0m\u001b[0;34m,\u001b[0m\u001b[0;34m\u001b[0m\u001b[0;34m\u001b[0m\u001b[0m\n\u001b[1;32m   3481\u001b[0m             \u001b[0mescapechar\u001b[0m\u001b[0;34m=\u001b[0m\u001b[0mescapechar\u001b[0m\u001b[0;34m,\u001b[0m\u001b[0;34m\u001b[0m\u001b[0;34m\u001b[0m\u001b[0m\n\u001b[0;32m-> 3482\u001b[0;31m             \u001b[0mstorage_options\u001b[0m\u001b[0;34m=\u001b[0m\u001b[0mstorage_options\u001b[0m\u001b[0;34m,\u001b[0m\u001b[0;34m\u001b[0m\u001b[0;34m\u001b[0m\u001b[0m\n\u001b[0m\u001b[1;32m   3483\u001b[0m         )\n\u001b[1;32m   3484\u001b[0m \u001b[0;34m\u001b[0m\u001b[0m\n",
            "\u001b[0;32m/usr/local/lib/python3.7/dist-packages/pandas/io/formats/format.py\u001b[0m in \u001b[0;36mto_csv\u001b[0;34m(self, path_or_buf, encoding, sep, columns, index_label, mode, compression, quoting, quotechar, line_terminator, chunksize, date_format, doublequote, escapechar, errors, storage_options)\u001b[0m\n\u001b[1;32m   1103\u001b[0m             \u001b[0mformatter\u001b[0m\u001b[0;34m=\u001b[0m\u001b[0mself\u001b[0m\u001b[0;34m.\u001b[0m\u001b[0mfmt\u001b[0m\u001b[0;34m,\u001b[0m\u001b[0;34m\u001b[0m\u001b[0;34m\u001b[0m\u001b[0m\n\u001b[1;32m   1104\u001b[0m         )\n\u001b[0;32m-> 1105\u001b[0;31m         \u001b[0mcsv_formatter\u001b[0m\u001b[0;34m.\u001b[0m\u001b[0msave\u001b[0m\u001b[0;34m(\u001b[0m\u001b[0;34m)\u001b[0m\u001b[0;34m\u001b[0m\u001b[0;34m\u001b[0m\u001b[0m\n\u001b[0m\u001b[1;32m   1106\u001b[0m \u001b[0;34m\u001b[0m\u001b[0m\n\u001b[1;32m   1107\u001b[0m         \u001b[0;32mif\u001b[0m \u001b[0mcreated_buffer\u001b[0m\u001b[0;34m:\u001b[0m\u001b[0;34m\u001b[0m\u001b[0;34m\u001b[0m\u001b[0m\n",
            "\u001b[0;32m/usr/local/lib/python3.7/dist-packages/pandas/io/formats/csvs.py\u001b[0m in \u001b[0;36msave\u001b[0;34m(self)\u001b[0m\n\u001b[1;32m    241\u001b[0m             \u001b[0merrors\u001b[0m\u001b[0;34m=\u001b[0m\u001b[0mself\u001b[0m\u001b[0;34m.\u001b[0m\u001b[0merrors\u001b[0m\u001b[0;34m,\u001b[0m\u001b[0;34m\u001b[0m\u001b[0;34m\u001b[0m\u001b[0m\n\u001b[1;32m    242\u001b[0m             \u001b[0mcompression\u001b[0m\u001b[0;34m=\u001b[0m\u001b[0mself\u001b[0m\u001b[0;34m.\u001b[0m\u001b[0mcompression\u001b[0m\u001b[0;34m,\u001b[0m\u001b[0;34m\u001b[0m\u001b[0;34m\u001b[0m\u001b[0m\n\u001b[0;32m--> 243\u001b[0;31m             \u001b[0mstorage_options\u001b[0m\u001b[0;34m=\u001b[0m\u001b[0mself\u001b[0m\u001b[0;34m.\u001b[0m\u001b[0mstorage_options\u001b[0m\u001b[0;34m,\u001b[0m\u001b[0;34m\u001b[0m\u001b[0;34m\u001b[0m\u001b[0m\n\u001b[0m\u001b[1;32m    244\u001b[0m         ) as handles:\n\u001b[1;32m    245\u001b[0m \u001b[0;34m\u001b[0m\u001b[0m\n",
            "\u001b[0;32m/usr/local/lib/python3.7/dist-packages/pandas/io/common.py\u001b[0m in \u001b[0;36mget_handle\u001b[0;34m(path_or_buf, mode, encoding, compression, memory_map, is_text, errors, storage_options)\u001b[0m\n\u001b[1;32m    705\u001b[0m                 \u001b[0mencoding\u001b[0m\u001b[0;34m=\u001b[0m\u001b[0mioargs\u001b[0m\u001b[0;34m.\u001b[0m\u001b[0mencoding\u001b[0m\u001b[0;34m,\u001b[0m\u001b[0;34m\u001b[0m\u001b[0;34m\u001b[0m\u001b[0m\n\u001b[1;32m    706\u001b[0m                 \u001b[0merrors\u001b[0m\u001b[0;34m=\u001b[0m\u001b[0merrors\u001b[0m\u001b[0;34m,\u001b[0m\u001b[0;34m\u001b[0m\u001b[0;34m\u001b[0m\u001b[0m\n\u001b[0;32m--> 707\u001b[0;31m                 \u001b[0mnewline\u001b[0m\u001b[0;34m=\u001b[0m\u001b[0;34m\"\"\u001b[0m\u001b[0;34m,\u001b[0m\u001b[0;34m\u001b[0m\u001b[0;34m\u001b[0m\u001b[0m\n\u001b[0m\u001b[1;32m    708\u001b[0m             )\n\u001b[1;32m    709\u001b[0m         \u001b[0;32melse\u001b[0m\u001b[0;34m:\u001b[0m\u001b[0;34m\u001b[0m\u001b[0;34m\u001b[0m\u001b[0m\n",
            "\u001b[0;31mFileNotFoundError\u001b[0m: [Errno 2] No such file or directory: '/Users/chohyeongjin/Desktop/test_6.csv'"
          ]
        }
      ],
      "source": [
        "import os\n",
        "\n",
        "name = ['이름','성별','나이','공복혈당','사구체여과율','요단백(정상/악양성/+1/+2/+3/+4)','중성지방','총콜레스테롤','최고-최저 혈압','수축기혈압','이완기혈압','크레아티닌','허리둘레','HbA1c','ALT','AST','BMI','FEV1/FVC','FEV1(L)','FEV1(%)','FVC(%)','FVC(L)','GTP','HDL','LDL']\n",
        "idx = list(range(1,4)) + list(range(13,35))\n",
        "\n",
        "\n",
        "df_final = pd.DataFrame({'순번':idx,'항목':name,'수치':km})\n",
        "\n",
        "if not os.path.exists('/Users/daeun/Desktop/test_6.csv'):\n",
        "    df_final.to_csv('/Users/daeun/Desktop/test_6.csv',mode='w', encoding='utf-8-sig')\n",
        "else:\n",
        "    df_final.to_csv('/Users/daeun/Desktop/test_6.csv',mode='a', encoding='utf-8-sig', header=False)"
      ]
    }
  ],
  "metadata": {
    "accelerator": "GPU",
    "colab": {
      "provenance": [],
      "include_colab_link": true
    },
    "gpuClass": "standard",
    "kernelspec": {
      "display_name": "Python 3",
      "language": "python",
      "name": "python3"
    },
    "language_info": {
      "codemirror_mode": {
        "name": "ipython",
        "version": 3
      },
      "file_extension": ".py",
      "mimetype": "text/x-python",
      "name": "python",
      "nbconvert_exporter": "python",
      "pygments_lexer": "ipython3",
      "version": "3.8.8"
    }
  },
  "nbformat": 4,
  "nbformat_minor": 5
}