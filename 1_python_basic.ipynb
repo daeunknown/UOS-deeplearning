{
  "cells": [
    {
      "cell_type": "code",
      "execution_count": null,
      "id": "952bb97e",
      "metadata": {
        "id": "952bb97e",
        "outputId": "597c9939-bcd2-4fb1-b81e-bb6ca41b8e88"
      },
      "outputs": [
        {
          "name": "stdout",
          "output_type": "stream",
          "text": [
            "hello\n"
          ]
        }
      ],
      "source": [
        "print(\"hello\")"
      ]
    },
    {
      "cell_type": "code",
      "execution_count": null,
      "id": "0c8b0da3",
      "metadata": {
        "id": "0c8b0da3"
      },
      "outputs": [],
      "source": [
        "pi = 3.1459265\n",
        "r = 10"
      ]
    },
    {
      "cell_type": "code",
      "execution_count": null,
      "id": "2f040109",
      "metadata": {
        "id": "2f040109",
        "outputId": "97d03988-178d-4f73-f2f3-3f63ab9de023"
      },
      "outputs": [
        {
          "name": "stdout",
          "output_type": "stream",
          "text": [
            "원주율: 3.1459265\n",
            "반지름: 10\n",
            "넓이: 314.59265\n",
            "\n",
            "yes\n"
          ]
        }
      ],
      "source": [
        "print(\"원주율:\", pi)\n",
        "print(\"반지름:\", r)\n",
        "print(\"넓이:\", pi*r**2)\n",
        "print()\n",
        "print(\"yes\")"
      ]
    },
    {
      "cell_type": "code",
      "execution_count": null,
      "id": "c1445a90",
      "metadata": {
        "id": "c1445a90",
        "outputId": "423858e6-d8fa-4d4f-a71c-84194fe29a09"
      },
      "outputs": [
        {
          "name": "stdout",
          "output_type": "stream",
          "text": [
            "inch 단위의 숫자를 입력해주세요: 21\n",
            "변환한 값: 53.34\n"
          ]
        }
      ],
      "source": [
        "raw_input = input(\"inch 단위의 숫자를 입력해주세요: \")\n",
        "inch = int(raw_input)\n",
        "cm = inch * 2.54\n",
        "print(\"변환한 값:\", cm)"
      ]
    },
    {
      "cell_type": "code",
      "execution_count": null,
      "id": "a5fdf351",
      "metadata": {
        "id": "a5fdf351",
        "outputId": "c055dcd7-61c7-44be-959b-ab114067b0c4"
      },
      "outputs": [
        {
          "name": "stdout",
          "output_type": "stream",
          "text": [
            "Good morning\n"
          ]
        }
      ],
      "source": [
        "a = 7\n",
        "\n",
        "if a < 12:\n",
        "    print(\"Good morning\")\n",
        "elif a < 17:\n",
        "    print(\"Good afternoon\")\n",
        "elif a < 21:\n",
        "    print(\"Good evening\")\n",
        "else:\n",
        "    print(\"Good night\")"
      ]
    },
    {
      "cell_type": "code",
      "execution_count": null,
      "id": "266e1d20",
      "metadata": {
        "id": "266e1d20",
        "outputId": "52a73f50-151e-4506-a01f-04e186942e4e"
      },
      "outputs": [
        {
          "name": "stdout",
          "output_type": "stream",
          "text": [
            "현재는 여름\n"
          ]
        }
      ],
      "source": [
        "import datetime\n",
        "\n",
        "now = datetime.datetime.now()\n",
        "month = now.month\n",
        "\n",
        "if 3 <= month <= 5:\n",
        "    print(\"현재는 봄\")\n",
        "elif 6 <= month <= 8:\n",
        "    print(\"현재는 여름\")\n",
        "elif 9 <= month <= 11:\n",
        "    print(\"현재는 가을\")\n",
        "else:\n",
        "    print(\"현재는 겨울\")"
      ]
    },
    {
      "cell_type": "code",
      "execution_count": null,
      "id": "e98e4e90",
      "metadata": {
        "id": "e98e4e90",
        "outputId": "ade6af87-ec29-413d-a89d-2f9717243b88"
      },
      "outputs": [
        {
          "name": "stdout",
          "output_type": "stream",
          "text": [
            "당신의 학점은?4.1\n",
            "와아~\n"
          ]
        }
      ],
      "source": [
        "score = float(input(\"당신의 학점은?\"))\n",
        "\n",
        "if score == 4.5:\n",
        "    print(\"당신은 짱\")\n",
        "elif 4.0 <= score < 4.5:\n",
        "    print(\"와아~\")\n",
        "elif 3.5 <= score < 4.0:\n",
        "    print(\"그래도 와~\")\n",
        "elif 3.0 <= score < 3.5:\n",
        "    print(\"좀 더 파이팅~~\")\n",
        "else:\n",
        "    print(\"분발해보자고~~~\")"
      ]
    },
    {
      "cell_type": "code",
      "execution_count": null,
      "id": "6b9b8c99",
      "metadata": {
        "id": "6b9b8c99",
        "outputId": "53e38cea-c33a-4f2a-eb01-58f41dc00967"
      },
      "outputs": [
        {
          "name": "stdout",
          "output_type": "stream",
          "text": [
            "오후\n"
          ]
        }
      ],
      "source": [
        "hour = now.hour\n",
        "if hour >= 12:\n",
        "    print(\"오후\")\n",
        "else:\n",
        "    print(\"오전\")"
      ]
    },
    {
      "cell_type": "code",
      "execution_count": null,
      "id": "59aa7cf8",
      "metadata": {
        "id": "59aa7cf8",
        "outputId": "5b984046-1658-4a5d-a54f-99012b8a0d8b"
      },
      "outputs": [
        {
          "name": "stdout",
          "output_type": "stream",
          "text": [
            "[0. 0. 0. 0. 0. 0. 0. 0. 0. 0.]\n",
            "[1. 1. 1. 1. 1. 1. 1. 1. 1. 1.]\n",
            "[0.15927281 0.64534294 0.56481456 0.60785731 0.12694561 0.67180055\n",
            " 0.21158326 0.16519229 0.5347136  0.62002243]\n",
            "[1 3 5 7 9]\n",
            "[ 1. 10.]\n"
          ]
        }
      ],
      "source": [
        "import numpy as np\n",
        "\n",
        "print(np.zeros(10))\n",
        "print(np.ones(10))\n",
        "\n",
        "print(np.random.rand(10))   # 난수 생성\n",
        "\n",
        "print(np.arange(1, 10, 2))  # 시작하는 수, 끝나는 수, 간격\n",
        "print(np.linspace(1, 10, 2)) # 시작하는 수, 끝나는 수, 원소 수"
      ]
    },
    {
      "cell_type": "code",
      "execution_count": null,
      "id": "7b73b20c",
      "metadata": {
        "id": "7b73b20c",
        "outputId": "83c069d0-ecae-44c8-a162-f728454de8c7"
      },
      "outputs": [
        {
          "name": "stdout",
          "output_type": "stream",
          "text": [
            "[[0 1 2 3]\n",
            " [4 5 6 7]]\n"
          ]
        }
      ],
      "source": [
        "a = np.array([0, 1, 2, 3, 4, 5, 6, 7])\n",
        "b = a.reshape(2, 4)\n",
        "print(b)"
      ]
    },
    {
      "cell_type": "code",
      "execution_count": null,
      "id": "8a0407cc",
      "metadata": {
        "id": "8a0407cc",
        "outputId": "cec87c8f-b720-4ce0-b5ab-ce7d4d356968"
      },
      "outputs": [
        {
          "name": "stdout",
          "output_type": "stream",
          "text": [
            "[0 1 2 3 4 5 6 7]\n"
          ]
        }
      ],
      "source": [
        "c = b.reshape(-1)  # 1차원 배열로 변환\n",
        "print(c)"
      ]
    },
    {
      "cell_type": "code",
      "execution_count": null,
      "id": "53fa5f35",
      "metadata": {
        "id": "53fa5f35",
        "outputId": "7a2ef19a-fc1b-4a36-ba05-ea2c9c2e8e9c"
      },
      "outputs": [
        {
          "name": "stdout",
          "output_type": "stream",
          "text": [
            "[[0 1 2 3]\n",
            " [4 5 6 7]]\n"
          ]
        }
      ],
      "source": [
        "e = a.reshape(2, -1) # -1로 주면 배열 자동으로 계산\n",
        "print(e)"
      ]
    }
  ],
  "metadata": {
    "kernelspec": {
      "display_name": "Python 3",
      "language": "python",
      "name": "python3"
    },
    "language_info": {
      "codemirror_mode": {
        "name": "ipython",
        "version": 3
      },
      "file_extension": ".py",
      "mimetype": "text/x-python",
      "name": "python",
      "nbconvert_exporter": "python",
      "pygments_lexer": "ipython3",
      "version": "3.8.8"
    },
    "colab": {
      "provenance": []
    }
  },
  "nbformat": 4,
  "nbformat_minor": 5
}