{
  "cells": [
    {
      "cell_type": "markdown",
      "metadata": {
        "id": "view-in-github",
        "colab_type": "text"
      },
      "source": [
        "<a href=\"https://colab.research.google.com/github/daeunknown/deeplearning-2022-summer/blob/main/8_CNN.ipynb\" target=\"_parent\"><img src=\"https://colab.research.google.com/assets/colab-badge.svg\" alt=\"Open In Colab\"/></a>"
      ]
    },
    {
      "cell_type": "code",
      "execution_count": null,
      "id": "089c35b5",
      "metadata": {
        "id": "089c35b5"
      },
      "outputs": [],
      "source": [
        "import numpy as np"
      ]
    },
    {
      "cell_type": "code",
      "execution_count": null,
      "id": "66ee39e5",
      "metadata": {
        "id": "66ee39e5"
      },
      "outputs": [],
      "source": [
        "def im2col(image, flt_h, flt_w, out_h, out_w):\n",
        "    img_h, img_w = image.shape\n",
        "    \n",
        "    cols = np.zeros((flt_h * flt_w, out_h * out_w))\n",
        "    \n",
        "    for h in range(out_h):\n",
        "        h_lim = h + flt_h\n",
        "        for w in range(out_w):\n",
        "            w_lim = w + flt_w\n",
        "            cols[:, h * out_w + w] = image[h : h_lim, w: w_lim].reshape(-1)\n",
        "            \n",
        "    return cols"
      ]
    },
    {
      "cell_type": "code",
      "execution_count": null,
      "id": "870c2b2e",
      "metadata": {
        "colab": {
          "base_uri": "https://localhost:8080/"
        },
        "id": "870c2b2e",
        "outputId": "8f934a35-f1aa-4825-9f79-8a4e8307d655"
      },
      "outputs": [
        {
          "output_type": "stream",
          "name": "stdout",
          "text": [
            "[[ 1.  2.  3.  5.  6.  7.  9. 10. 11.]\n",
            " [ 2.  3.  4.  6.  7.  8. 10. 11. 12.]\n",
            " [ 5.  6.  7.  9. 10. 11. 13. 14. 15.]\n",
            " [ 6.  7.  8. 10. 11. 12. 14. 15. 16.]]\n"
          ]
        }
      ],
      "source": [
        "#간단한 im2col 구현\n",
        "\n",
        "img = np.array([[1, 2, 3, 4],\n",
        "               [5, 6, 7, 8],\n",
        "               [9, 10, 11, 12],\n",
        "               [13, 14, 15, 16]])\n",
        "\n",
        "cols = im2col(img, 2, 2, 3, 3)\n",
        "print(cols)"
      ]
    },
    {
      "cell_type": "code",
      "execution_count": null,
      "id": "6a3e0332",
      "metadata": {
        "id": "6a3e0332"
      },
      "outputs": [],
      "source": [
        "#수정된 im2col\n",
        "\n",
        "def im2col(image, flt_h, flt_w, out_h, out_w):\n",
        "    img_h, img_w = image.shape\n",
        "    \n",
        "    cols = np.zeros((flt_h * flt_w, out_h * out_w))\n",
        "    \n",
        "    for h in range(flt_h):\n",
        "        h_lim = h + flt_h\n",
        "        for w in range(out_w):\n",
        "            w_lim = w + flt_w\n",
        "            cols[:, h * out_w + w] = image[h : h_lim, w: w_lim].reshape(-1)\n",
        "            \n",
        "    return cols"
      ]
    },
    {
      "cell_type": "code",
      "execution_count": null,
      "id": "51807803",
      "metadata": {
        "id": "51807803"
      },
      "outputs": [],
      "source": [
        "#실전 im2col\n",
        "\n",
        "def im2col(image, flt_h, flt_w, out_h, out_w):\n",
        "    n_bt, n_ch, img_h, img_w = image.shape\n",
        "    \n",
        "    cols = np.zeros((n_bt, n_ch, flt_h, flt_w, out_h, out_w))\n",
        "    \n",
        "    for h in range(flt_h):\n",
        "        h_lim = h + out_h\n",
        "        for w in range(flt_w):\n",
        "            w_lim = w + out_w\n",
        "            cols[:, :, h, w, :, :] = images[:, :, h:h_lim, w:w_lim]\n",
        "            \n",
        "        cols = cols.transpose(1, 2, 3, 0, 4, 5).reshape(n_ch*flt_h*flt_w, n_bt*out_h*out_w)\n",
        "        \n",
        "        return cols"
      ]
    },
    {
      "cell_type": "code",
      "execution_count": null,
      "id": "417f0b1f",
      "metadata": {
        "id": "417f0b1f"
      },
      "outputs": [],
      "source": [
        "# 패딩과 스트라이드를 고려한 im2col 함수\n",
        "\n",
        "def im2col(image, flt_h, flt_w, out_h, out_w):\n",
        "    n_bt, n_ch, img_h, img_w = image.shape\n",
        "    \n",
        "    img_pad = np.pad(images, [(0,0), (0,0), (pad,pad), (pad,pad)], \"constant\")\n",
        "    cols = np.zeros((n_bt, n_ch, flt_h, flt_w, out_h, out_w))\n",
        "    \n",
        "    for h in range(flt_h):\n",
        "        h_lim = h + stride * out_h\n",
        "        for w in range(flt_w):\n",
        "            w_lim = w + stride * out_w\n",
        "            cols[:, :, h, w, :, :] = images[:, :, h:h_lim:stride, w:w_lim:stride]\n",
        "            \n",
        "        cols = cols.transpose(1, 2, 3, 0, 4, 5).reshape(n_ch*flt_h*flt_w, n_bt*out_h*out_w)\n",
        "        \n",
        "        return cols"
      ]
    },
    {
      "cell_type": "code",
      "execution_count": null,
      "id": "ce17c3b4",
      "metadata": {
        "id": "ce17c3b4"
      },
      "outputs": [],
      "source": [
        "def col2im(cols, img_shape, flt_h, flt_w, out_h, out_w, stride, pad):\n",
        "    \n",
        "    n_bt, n_ch, img_h, img_w = img_shape\n",
        "    \n",
        "    cols = cols.reshape(n_ch, flt_h, flt_w, n_bt, out_h, out_w).transpose(3, 0, 1, 2, 4, 5)\n",
        "    images = np.zeros((n_bt, n_ch, img_h + 2*pad + stride -1, img_w + 2*pad + stride -1))\n",
        "    \n",
        "    for h in range(flt_h):\n",
        "        h_lim = h + stride * out_h\n",
        "        for w in range(flt_w):\n",
        "            w_lim = w + stride * out_w\n",
        "            images[:, :, h:h_lim:stride, w:w_lim:stride] += cols[:, :, h, w, :, :]\n",
        "            \n",
        "    return images[:, :, pad:img_h + pad, pad:img_w+pad]    "
      ]
    },
    {
      "cell_type": "code",
      "execution_count": null,
      "id": "4fc54671",
      "metadata": {
        "colab": {
          "base_uri": "https://localhost:8080/"
        },
        "id": "4fc54671",
        "outputId": "8959c483-3db3-4057-c86d-5e95d468598e"
      },
      "outputs": [
        {
          "output_type": "stream",
          "name": "stdout",
          "text": [
            "[[[[1. 2. 1.]\n",
            "   [2. 4. 2.]\n",
            "   [1. 2. 1.]]]]\n"
          ]
        }
      ],
      "source": [
        "cols = np.ones((4, 4))\n",
        "img_shape = (1, 1, 3, 3)\n",
        "images = col2im(cols, img_shape, 2, 2, 2, 2, 1, 0)\n",
        "print(images)"
      ]
    },
    {
      "cell_type": "code",
      "execution_count": null,
      "id": "66496351",
      "metadata": {
        "id": "66496351"
      },
      "outputs": [],
      "source": [
        "class ConvLayer:\n",
        "    \n",
        "    def __init__(self, x_ch, x_h, x_w, n_flt, flt_h, flt_w, stride, pad):\n",
        "        self.params = (x_ch, x_h, x_w, n_flt, flt_h, flt_w, stride, pad)\n",
        "        \n",
        "        self.w = wb_width * np.random.randn(n_flt, x_ch, flt_h, flt_w)\n",
        "        self.b = wb_width * np.random.randn(1, n_flt)\n",
        "        \n",
        "        self.y_ch = n_flt\n",
        "        self.y_h = (x_h - flt_h + 2*pad) // stride + 1\n",
        "        self.y_w = (x_w - flt_w + 2*pad) // stride + 1"
      ]
    },
    {
      "cell_type": "code",
      "execution_count": null,
      "id": "0292c3a5",
      "metadata": {
        "id": "0292c3a5"
      },
      "outputs": [],
      "source": [
        "def forward(self, x):\n",
        "    n_bt = x.shape[0]\n",
        "    x_ch, x_h, x_w, n_flt, flt_h, flt_w, stride, pad = self.params\n",
        "    y_ch, y_h, y_w = self.y_ch, self.y_h, self.y_w\n",
        "    \n",
        "    self.cols = im2col(x, flt_h, flt_w, y_h, y_w, stride, pad)\n",
        "    self.w_col = self.w.reshape(n_flt, x_ch*flt_h*flt_w)\n",
        "    \n",
        "    u = np.dot(self.w_col, self.cols).T + self.b\n",
        "    self.u = u.reshape(n_bt, y_h, y_w, y_ch).transpose(0, 3, 1, 2)\n",
        "    self.y = np.where(self.u <= 0, 0, self.u)"
      ]
    },
    {
      "cell_type": "code",
      "execution_count": null,
      "id": "84d77246",
      "metadata": {
        "id": "84d77246"
      },
      "outputs": [],
      "source": [
        "def backward(self, grad_y):\n",
        "    n_bt = grad_y.shape[0]\n",
        "    x_ch, x_h, x_w, n_flt, flt_h, flt_w, stride, pad = self.params\n",
        "    y_ch, y_h, y_w = self.y_ch, self.y_h, self.y_w\n",
        "    \n",
        "    delta = grad_y * np.where(self.u <= 0, 0, 1)\n",
        "    delta = delta.transpose(0, 2, 3, 1).reshape(n_bt*y_h*y_w, y_ch)\n",
        "    \n",
        "    grad_w = np.dot(self.cols, delta)\n",
        "    self.grad_w = grad_w.T.reshape(n_flt, x_ch, flt_h, flt_w)\n",
        "    self.grad_b = np.sum(delta, axis = 0)\n",
        "    \n",
        "    grad_cols = np.dot(delta, self.w_col)\n",
        "    x_shape = (n_bt, x_ch, x_h, x_w)\n",
        "    self.grad_x = col2im(grad_cols.T, x_shape, flt_h, flt_w, y_h, y_w, stride, pad)"
      ]
    },
    {
      "cell_type": "code",
      "execution_count": null,
      "id": "c2fd7e7d",
      "metadata": {
        "id": "c2fd7e7d"
      },
      "outputs": [],
      "source": [
        "class PoolingLayer:\n",
        "    \n",
        "    def __init__(self, x_ch, x_h, x_w, pool, pad):\n",
        "        self.params = (x_ch, x_h, x_w, pool, pad)\n",
        "        \n",
        "        self.y_ch = x_ch\n",
        "        self.y_h = x_h // pool if x_h%pool == 0 else x_h//pool+1\n",
        "        self.y_w = x_w // pool if x_w%pool == 0 else x_w//pool+1"
      ]
    },
    {
      "cell_type": "code",
      "execution_count": null,
      "id": "6dcdfb4e",
      "metadata": {
        "id": "6dcdfb4e"
      },
      "outputs": [],
      "source": [
        "def forward(self, x):\n",
        "    n_bt = x.shape[0]\n",
        "    x_ch, x_h, x_w, pool, pad = self.params\n",
        "    y_ch, y_h, y_w = self.y_ch, self.y_h, self.y_w\n",
        "    \n",
        "    cols = im2col(x, pool, pool, y_h, y_w, pool, pad)\n",
        "    cols = cols.T.reshape(n_bt*y_h*y_w*x_ch, pool*pool)\n",
        "    \n",
        "    y = np.max(cols, axis=1)\n",
        "    self.y = y.reshape(n_bt, y_h, y_w, x_ch).transpose(0, 3, 1, 2)\n",
        "    \n",
        "    self.max_index = np.argmax(cols, axis=1)"
      ]
    },
    {
      "cell_type": "code",
      "execution_count": null,
      "id": "6cde9038",
      "metadata": {
        "id": "6cde9038"
      },
      "outputs": [],
      "source": [
        "def backward(self, grad_y):\n",
        "    n_bt = grad_y.shape[0]\n",
        "    x_ch, x_h, x_w, pool, pad = self.params\n",
        "    y_ch, y_h, y_w = self.y_ch, self.y_h, self.y_w\n",
        "    \n",
        "    grad_y = grad_y.transpose(0, 2, 3, 1)\n",
        "    \n",
        "    grad_cols = np.zeros((pool*pool, grad_y.size))\n",
        "    grad_cols[self.max_index.reshape(-1), np.arange(grad_y.size)] = grad_y.reshape(-1)\n",
        "    grad_cols = grad_cols.reshape(p00l, pool, n_bt, y_h, y_w, y_ch)\n",
        "    grad_cols = grad_cols.transpose(5, 0, 1, 2, 3, 4)\n",
        "    grad_cols = grad_cols.reshape(y_ch*pool*pool, n_bt*y_h*y_w)\n",
        "    \n",
        "    x_shape = (n_bt, x_ch, x_h, x_w)\n",
        "    self.grad_x = col2im(grad_cols, x_shape, pool, pool, y_h, y_w, pool, pool)"
      ]
    },
    {
      "cell_type": "code",
      "execution_count": null,
      "id": "1e4b959b",
      "metadata": {
        "colab": {
          "base_uri": "https://localhost:8080/",
          "height": 282
        },
        "id": "1e4b959b",
        "outputId": "75729e5d-3518-424f-c926-8c856f27bfae"
      },
      "outputs": [
        {
          "output_type": "stream",
          "name": "stdout",
          "text": [
            "(1797, 64)\n"
          ]
        },
        {
          "output_type": "display_data",
          "data": {
            "text/plain": [
              "<Figure size 432x288 with 1 Axes>"
            ],
            "image/png": "[encoded data removed]"
          },
          "metadata": {
            "needs_background": "light"
          }
        }
      ],
      "source": [
        "import matplotlib.pyplot as plt\n",
        "from sklearn import datasets\n",
        "\n",
        "digits = datasets.load_digits()\n",
        "print(digits.data.shape)\n",
        "\n",
        "plt.imshow(digits.data[2].reshape(8, 8), cmap = \"gray\")\n",
        "plt.show()"
      ]
    },
    {
      "cell_type": "code",
      "execution_count": null,
      "id": "5360a142",
      "metadata": {
        "id": "5360a142"
      },
      "outputs": [],
      "source": [
        "# p.319 전체 모형 구축하기\n",
        "digits_data = datasets.load_digits()\n",
        "input_data = digits_data.data\n",
        "correct = digits_data.target\n",
        "n_data = len(correct)\n",
        "\n",
        "ave_input = np.average(input_data)\n",
        "std_input = np.std(input_data)\n",
        "input_data = (input_data - ave_input) / std_input\n",
        "\n",
        "correct_data = np.zeros((n_data, 10))\n",
        "for i in range(n_data):\n",
        "    correct_data[i, correct[i]] = 1.0\n",
        "    \n",
        "index = np.arange(n_data)\n",
        "index_train = index[index%3 != 0]\n",
        "index_test = index[index%3 == 0]\n",
        "\n",
        "input_train = input_data[index_train, :]\n",
        "correct_train = correct_data[index_train, :]\n",
        "input_test = input_data[index_test, :]\n",
        "correct_test = correct_data[index_test, :]\n",
        "\n",
        "n_train = input_train.shape[0]\n",
        "n_test = input_test.shape[0]\n",
        "\n",
        "img_h = 8\n",
        "img_w = 8\n",
        "img_ch = 1\n",
        "\n",
        "wb_width = 0.1\n",
        "eta = 0.01\n",
        "epoch = 50\n",
        "batch_size = 8\n",
        "interval = 10\n",
        "n_sample = 200\n",
        "\n",
        "\n",
        "def im2col(image, flt_h, flt_w, out_h, out_w, stride, pad):\n",
        "    n_bt, n_ch, img_h, img_w = image.shape\n",
        "    \n",
        "    img_pad = np.pad(images, [(0,0), (0,0), (pad,pad), (pad,pad)], \"constant\")\n",
        "    cols = np.zeros((n_bt, n_ch, flt_h, flt_w, out_h, out_w))\n",
        "    \n",
        "    for h in range(flt_h):\n",
        "        h_lim = h + stride * out_h\n",
        "        for w in range(flt_w):\n",
        "            w_lim = w + stride * out_w\n",
        "            cols[:, :, h, w, :, :] = images[:, :, h:h_lim:stride, w:w_lim:stride]\n",
        "            \n",
        "    cols = cols.transpose(1, 2, 3, 0, 4, 5).reshape(n_ch*flt_h*flt_w, n_bt*out_h*out_w)\n",
        "        \n",
        "    return cols\n",
        "\n",
        "def col2im(cols, img_shape, flt_h, flt_w, out_h, out_w, stride, pad):\n",
        "    \n",
        "    n_bt, n_ch, img_h, img_w = img_shape\n",
        "    \n",
        "    cols = cols.reshape(n_ch, flt_h, flt_w, n_bt, out_h, out_w).transpose(3, 0, 1, 2, 4, 5)\n",
        "    images = np.zeros((n_bt, n_ch, img_h + 2*pad + stride -1, img_w + 2*pad + stride -1))\n",
        "    \n",
        "    for h in range(flt_h):\n",
        "        h_lim = h + stride * out_h\n",
        "        for w in range(flt_w):\n",
        "            w_lim = w + stride * out_w\n",
        "            images[:, :, h:h_lim:stride, w:w_lim:stride] += cols[:, :, h, w, :, :]\n",
        "            \n",
        "    return images[:, :, pad:img_h + pad, pad:img_w+pad]    \n",
        "\n",
        "class ConvLayer:\n",
        "    \n",
        "    def __init__(self, x_ch, x_h, x_w, n_flt, flt_h, flt_w, stride, pad):\n",
        "        self.params = (x_ch, x_h, x_w, n_flt, flt_h, flt_w, stride, pad)\n",
        "        \n",
        "        self.w = wb_width * np.random.randn(n_flt, x_ch, flt_h, flt_w)\n",
        "        self.b = wb_width * np.random.randn(1, n_flt)\n",
        "        \n",
        "        self.y_ch = n_flt\n",
        "        self.y_h = (x_h - flt_h + 2*pad) // stride + 1\n",
        "        self.y_w = (x_w - flt_w + 2*pad) // stride + 1\n",
        "        \n",
        "        self.h_w = np.zeros((n_flt, x_ch, flt_h, flt_w)) + 1e-8\n",
        "        self.h_b = np.zeros((1, n_flt)) +1e-8\n",
        "        \n",
        "    def forward(self, x):\n",
        "        n_bt = x.shape[0]\n",
        "        x_ch, x_h, x_w, n_flt, flt_h, flt_w, stride, pad = self.params\n",
        "        y_ch, y_h, y_w = self.y_ch, self.y_h, self.y_w\n",
        "    \n",
        "        self.cols = im2col(x, flt_h, flt_w, y_h, y_w, stride, pad)\n",
        "        self.w_col = self.w.reshape(n_flt, x_ch*flt_h*flt_w)\n",
        "    \n",
        "        u = np.dot(self.w_col, self.cols).T + self.b\n",
        "        self.u = u.reshape(n_bt, y_h, y_w, y_ch).transpose(0, 3, 1, 2)\n",
        "        self.y = np.where(self.u <= 0, 0, self.u)\n",
        "        \n",
        "    def backward(self, grad_y):\n",
        "        n_bt = grad_y.shape[0]\n",
        "        x_ch, x_h, x_w, n_flt, flt_h, flt_w, stride, pad = self.params\n",
        "        y_ch, y_h, y_w = self.y_ch, self.y_h, self.y_w\n",
        "    \n",
        "        delta = grad_y * np.where(self.u <= 0, 0, 1)\n",
        "        delta = delta.transpose(0, 2, 3, 1).reshape(n_bt*y_h*y_w, y_ch)\n",
        "    \n",
        "        grad_w = np.dot(self.cols, delta)\n",
        "        self.grad_w = grad_w.T.reshape(n_flt, x_ch, flt_h, flt_w)\n",
        "        self.grad_b = np.sum(delta, axis = 0)\n",
        "    \n",
        "        grad_cols = np.dot(delta, self.w_col)\n",
        "        x_shape = (n_bt, x_ch, x_h, x_w)\n",
        "        self.grad_x = col2im(grad_cols.T, x_shape, flt_h, flt_w, y_h, y_w, stride, pad)\n",
        "        \n",
        "    def update(self, eta):\n",
        "        self.h_w += self.grad_w * self.grad_w\n",
        "        self.w -= eta / np.sqrt(self.h_w) * self.grad_w\n",
        "        self.h_b += self.grad_b * self.grad_b\n",
        "        self.b -= eta / np.sqrt(self.h_b) * self.grad_b\n",
        "        \n",
        "class PoolingLayer:\n",
        "    \n",
        "    def __init__(self, x_ch, x_h, x_w, pool, pad):\n",
        "        self.params = (x_ch, x_h, x_w, pool, pad)\n",
        "        \n",
        "        self.y_ch = x_ch\n",
        "        self.y_h = x_h // pool if x_h%pool == 0 else x_h // pool+1\n",
        "        self.y_w = x_w // pool if x_w%pool == 0 else x_w // pool+1\n",
        "        \n"
      ]
    }
  ],
  "metadata": {
    "kernelspec": {
      "display_name": "Python 3",
      "language": "python",
      "name": "python3"
    },
    "language_info": {
      "codemirror_mode": {
        "name": "ipython",
        "version": 3
      },
      "file_extension": ".py",
      "mimetype": "text/x-python",
      "name": "python",
      "nbconvert_exporter": "python",
      "pygments_lexer": "ipython3",
      "version": "3.8.8"
    },
    "colab": {
      "provenance": [],
      "include_colab_link": true
    }
  },
  "nbformat": 4,
  "nbformat_minor": 5
}