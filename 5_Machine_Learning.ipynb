{
  "cells": [
    {
      "cell_type": "markdown",
      "metadata": {
        "id": "view-in-github",
        "colab_type": "text"
      },
      "source": [
        "<a href=\"https://colab.research.google.com/github/daeunknown/deeplearning-2022-summer/blob/main/5_Machine_Learning.ipynb\" target=\"_parent\"><img src=\"https://colab.research.google.com/assets/colab-badge.svg\" alt=\"Open In Colab\"/></a>"
      ]
    },
    {
      "cell_type": "code",
      "execution_count": null,
      "id": "2fdddf4b",
      "metadata": {
        "id": "2fdddf4b"
      },
      "outputs": [],
      "source": [
        "import numpy as np\n",
        "\n",
        "perch_length = np.array([8.4, 13.7, 15.0, 16.2, 17.4, 18.0, 18.7, 19.0, 19.6, 20.0, 21.0,\n",
        "       21.0, 21.0, 21.3, 22.0, 22.0, 22.0, 22.0, 22.0, 22.5, 22.5, 22.7,\n",
        "       23.0, 23.5, 24.0, 24.0, 24.6, 25.0, 25.6, 26.5, 27.3, 27.5, 27.5,\n",
        "       27.5, 28.0, 28.7, 30.0, 32.8, 34.5, 35.0, 36.5, 36.0, 37.0, 37.0,\n",
        "       39.0, 39.0, 39.0, 40.0, 40.0, 40.0, 40.0, 42.0, 43.0, 43.0, 43.5,\n",
        "       44.0])\n",
        "\n",
        "perch_weight = np.array([5.9, 32.0, 40.0, 51.5, 70.0, 100.0, 78.0, 80.0, 85.0, 85.0, 110.0,\n",
        "       115.0, 125.0, 130.0, 120.0, 120.0, 130.0, 135.0, 110.0, 130.0,\n",
        "       150.0, 145.0, 150.0, 170.0, 225.0, 145.0, 188.0, 180.0, 197.0,\n",
        "       218.0, 300.0, 260.0, 265.0, 250.0, 250.0, 300.0, 320.0, 514.0,\n",
        "       556.0, 840.0, 685.0, 700.0, 700.0, 690.0, 900.0, 650.0, 820.0,\n",
        "       850.0, 900.0, 1015.0, 820.0, 1100.0, 1000.0, 1100.0, 1000.0,\n",
        "       1000.0])"
      ]
    },
    {
      "cell_type": "code",
      "execution_count": null,
      "id": "144d57d2",
      "metadata": {
        "id": "144d57d2",
        "outputId": "5402bb68-34cc-47a2-ffd4-4a69ff31c26c"
      },
      "outputs": [
        {
          "data": {
            "image/png": "[encoded data removed]",
            "text/plain": [
              "<Figure size 432x288 with 1 Axes>"
            ]
          },
          "metadata": {
            "needs_background": "light"
          },
          "output_type": "display_data"
        }
      ],
      "source": [
        "import matplotlib.pyplot as plt\n",
        "\n",
        "plt.scatter(perch_length, perch_weight)\n",
        "plt.xlabel('length')\n",
        "plt.ylabel('weight')\n",
        "plt.show()"
      ]
    },
    {
      "cell_type": "markdown",
      "id": "47a0440b",
      "metadata": {
        "id": "47a0440b"
      },
      "source": [
        "# k-nn"
      ]
    },
    {
      "cell_type": "code",
      "execution_count": null,
      "id": "bb406dcc",
      "metadata": {
        "id": "bb406dcc"
      },
      "outputs": [],
      "source": [
        "#훈련셋과 테스트셋 나누기\n",
        "#random_state : 씨드 고정\n",
        "\n",
        "from sklearn.model_selection import train_test_split\n",
        "train_input, test_input, train_target, test_target = train_test_split(perch_length, perch_weight, random_state = 42)"
      ]
    },
    {
      "cell_type": "code",
      "execution_count": null,
      "id": "b4282950",
      "metadata": {
        "id": "b4282950",
        "outputId": "21cc46d9-2229-4416-a900-9c11880ac366"
      },
      "outputs": [
        {
          "name": "stdout",
          "output_type": "stream",
          "text": [
            "(42, 1) (14, 1)\n"
          ]
        }
      ],
      "source": [
        "#사이킷런에 사용할 입력 데이터는 2차원 배열 구조를 사용\n",
        "\n",
        "train_input = train_input.reshape(-1, 1)\n",
        "test_input = test_input.reshape(-1, 1)\n",
        "\n",
        "print(train_input.shape, test_input.shape)"
      ]
    },
    {
      "cell_type": "code",
      "execution_count": null,
      "id": "16f27add",
      "metadata": {
        "id": "16f27add",
        "outputId": "ad8bcea0-cf50-40c8-cf0c-3ae0f830634c"
      },
      "outputs": [
        {
          "name": "stdout",
          "output_type": "stream",
          "text": [
            "0.992809406101064\n"
          ]
        }
      ],
      "source": [
        "from sklearn.neighbors import KNeighborsRegressor\n",
        "knr = KNeighborsRegressor()\n",
        "knr.fit(train_input, train_target)\n",
        "\n",
        "#결정계수 확인   (cf. 분류의 경우, 정확도라 부름)\n",
        "print(knr.score(test_input, test_target))"
      ]
    },
    {
      "cell_type": "code",
      "execution_count": null,
      "id": "6c233d28",
      "metadata": {
        "id": "6c233d28",
        "outputId": "e88e68db-9fb2-4195-8eaa-2e673d911182"
      },
      "outputs": [
        {
          "name": "stdout",
          "output_type": "stream",
          "text": [
            "[1033.33333333]\n",
            "[1033.33333333]\n"
          ]
        }
      ],
      "source": [
        "from sklearn.neighbors import KNeighborsRegressor\n",
        "knr = KNeighborsRegressor(n_neighbors = 3)  #default는 5\n",
        "knr.fit(train_input, train_target)\n",
        "\n",
        "# 50cm인 농어의 무게를 예측\n",
        "print(knr.predict([[50]]))\n",
        "#100cm인 농어의 무게를 예측\n",
        "print(knr.predict([[100]]))\n",
        "\n",
        "#주변 3개의 이웃만으로 예측하기 때문에 두 값이 동일하게 나온다"
      ]
    },
    {
      "cell_type": "code",
      "execution_count": null,
      "id": "36b4cf1d",
      "metadata": {
        "id": "36b4cf1d",
        "outputId": "a395760f-ebb0-4c38-8d97-d3c8d1be1815"
      },
      "outputs": [
        {
          "data": {
            "image/png": "[encoded data removed]",
            "text/plain": [
              "<Figure size 432x288 with 1 Axes>"
            ]
          },
          "metadata": {
            "needs_background": "light"
          },
          "output_type": "display_data"
        }
      ],
      "source": [
        "import matplotlib.pyplot as plt\n",
        "\n",
        "#50cm 농어의 이웃을 구함\n",
        "distances, indexes = knr.kneighbors([[50]])\n",
        "\n",
        "#훈련 셋의 산점도\n",
        "plt.scatter(train_input, train_target)\n",
        "#훈련 셋 중에서 이웃만 다시 그림\n",
        "plt.scatter(train_input[indexes], train_target[indexes], marker = 'D')\n",
        "#50cm 농어의 데이터\n",
        "plt.scatter(50, 1033, marker = '^')\n",
        "\n",
        "plt.title('graph')\n",
        "plt.xlabel('length')\n",
        "plt.ylabel('weight')\n",
        "plt.show()"
      ]
    },
    {
      "cell_type": "markdown",
      "id": "06da9018",
      "metadata": {
        "id": "06da9018"
      },
      "source": [
        "# Linear Regression"
      ]
    },
    {
      "cell_type": "code",
      "execution_count": null,
      "id": "358b867d",
      "metadata": {
        "id": "358b867d",
        "outputId": "22f89125-ca7e-429b-e885-1225e8eed957"
      },
      "outputs": [
        {
          "name": "stdout",
          "output_type": "stream",
          "text": [
            "[1241.83860323]\n",
            "[3192.69585141]\n"
          ]
        }
      ],
      "source": [
        "from sklearn.linear_model import LinearRegression\n",
        "lr = LinearRegression()\n",
        "lr.fit(train_input, train_target)\n",
        "\n",
        "# 50cm인 농어의 무게를 예측\n",
        "print(lr.predict([[50]]))\n",
        "#100cm인 농어의 무게를 예측\n",
        "print(lr.predict([[100]]))"
      ]
    },
    {
      "cell_type": "code",
      "execution_count": null,
      "id": "a7862782",
      "metadata": {
        "id": "a7862782",
        "outputId": "cf298c8c-db75-4568-91ac-410329bce101"
      },
      "outputs": [
        {
          "name": "stdout",
          "output_type": "stream",
          "text": [
            "[39.01714496] -709.0186449535477\n"
          ]
        }
      ],
      "source": [
        "#모델 파라미터 체크 (계수, 절편)\n",
        "print(lr.coef_, lr.intercept_)"
      ]
    },
    {
      "cell_type": "code",
      "execution_count": null,
      "id": "e48f46c1",
      "metadata": {
        "id": "e48f46c1",
        "outputId": "1752327f-f718-4610-b198-c7f90c5e0125"
      },
      "outputs": [
        {
          "data": {
            "image/png": "[encoded data removed]",
            "text/plain": [
              "<Figure size 432x288 with 1 Axes>"
            ]
          },
          "metadata": {
            "needs_background": "light"
          },
          "output_type": "display_data"
        }
      ],
      "source": [
        "plt.scatter(train_input, train_target)\n",
        "plt.plot([15, 50], [15*lr.coef_ + lr.intercept_, 50*lr.coef_ + lr.intercept_])\n",
        "\n",
        "plt.scatter(50, 1241.8, marker = '^')\n",
        "plt.xlabel('length')\n",
        "plt.ylabel('weight')\n",
        "plt.show()"
      ]
    },
    {
      "cell_type": "code",
      "execution_count": null,
      "id": "ce547a7b",
      "metadata": {
        "id": "ce547a7b",
        "outputId": "82dbef3b-07c2-4b46-82b7-353ec3cd6e78"
      },
      "outputs": [
        {
          "name": "stdout",
          "output_type": "stream",
          "text": [
            "0.9398463339976041\n",
            "0.8247503123313559\n"
          ]
        }
      ],
      "source": [
        "#결정계수 확인\n",
        "print(lr.score(train_input, train_target))\n",
        "print(lr.score(test_input, test_target))"
      ]
    }
  ],
  "metadata": {
    "kernelspec": {
      "display_name": "Python 3",
      "language": "python",
      "name": "python3"
    },
    "language_info": {
      "codemirror_mode": {
        "name": "ipython",
        "version": 3
      },
      "file_extension": ".py",
      "mimetype": "text/x-python",
      "name": "python",
      "nbconvert_exporter": "python",
      "pygments_lexer": "ipython3",
      "version": "3.8.8"
    },
    "colab": {
      "provenance": [],
      "include_colab_link": true
    }
  },
  "nbformat": 4,
  "nbformat_minor": 5
}