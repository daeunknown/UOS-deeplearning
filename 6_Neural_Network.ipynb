{
  "cells": [
    {
      "cell_type": "markdown",
      "metadata": {
        "id": "view-in-github",
        "colab_type": "text"
      },
      "source": [
        "<a href=\"https://colab.research.google.com/github/daeunknown/deeplearning-2022-summer/blob/main/6_Neural_Network.ipynb\" target=\"_parent\"><img src=\"https://colab.research.google.com/assets/colab-badge.svg\" alt=\"Open In Colab\"/></a>"
      ]
    },
    {
      "cell_type": "markdown",
      "id": "8b32a133",
      "metadata": {
        "id": "8b32a133"
      },
      "source": [
        "# 신경망 구현"
      ]
    },
    {
      "cell_type": "markdown",
      "id": "3a7997da",
      "metadata": {
        "id": "3a7997da"
      },
      "source": [
        "단일 신경망 구현"
      ]
    },
    {
      "cell_type": "code",
      "source": [
        "import numpy as np\n",
        "import matplotlib.pyplot as plt"
      ],
      "metadata": {
        "id": "4yaPXEZVSXCo"
      },
      "id": "4yaPXEZVSXCo",
      "execution_count": 3,
      "outputs": []
    },
    {
      "cell_type": "code",
      "execution_count": 4,
      "id": "cbe0a78a",
      "metadata": {
        "id": "cbe0a78a",
        "outputId": "caeff749-2110-45e8-d755-d82c782f8f69",
        "colab": {
          "base_uri": "https://localhost:8080/",
          "height": 269
        }
      },
      "outputs": [
        {
          "output_type": "display_data",
          "data": {
            "text/plain": [
              "<Figure size 432x288 with 2 Axes>"
            ],
            "image/png": "[encoded data removed]"
          },
          "metadata": {
            "needs_background": "light"
          }
        }
      ],
      "source": [
        "X = np.arange(-1.0, 1.0, 0.2)\n",
        "Y = np.arange(-1.0, 1.0, 0.2)\n",
        "\n",
        "Z = np.zeros((10, 10))\n",
        "\n",
        "w_x = 2.5\n",
        "w_y = 3.0\n",
        "\n",
        "bias = 0.1\n",
        "\n",
        "for i in range(10):\n",
        "    for j in range(10):\n",
        "        u = X[i]*w_x + Y[j]*w_y + bias\n",
        "        y = 1 / (1 + np.exp(-u))\n",
        "        Z[j][i] = y\n",
        "        \n",
        "plt.imshow(Z, \"gray\", vmin = 0.0, vmax = 1.0)\n",
        "plt.colorbar()\n",
        "plt.show()"
      ]
    },
    {
      "cell_type": "code",
      "execution_count": 5,
      "id": "fca4a761",
      "metadata": {
        "id": "fca4a761",
        "outputId": "5532f459-2df7-4954-f3b8-92563166ad05",
        "colab": {
          "base_uri": "https://localhost:8080/",
          "height": 269
        }
      },
      "outputs": [
        {
          "output_type": "display_data",
          "data": {
            "text/plain": [
              "<Figure size 432x288 with 2 Axes>"
            ],
            "image/png": "[encoded data removed]"
          },
          "metadata": {
            "needs_background": "light"
          }
        }
      ],
      "source": [
        "#가중치 바꿔보기\n",
        "\n",
        "X = np.arange(-1.0, 1.0, 0.2)\n",
        "Y = np.arange(-1.0, 1.0, 0.2)\n",
        "\n",
        "Z = np.zeros((10, 10))\n",
        "\n",
        "w_x = 0\n",
        "w_y = 3.0\n",
        "\n",
        "bias = 0.1\n",
        "\n",
        "for i in range(10):\n",
        "    for j in range(10):\n",
        "        u = X[i]*w_x + Y[j]*w_y + bias\n",
        "        y = 1 / (1 + np.exp(-u))\n",
        "        Z[j][i] = y\n",
        "        \n",
        "plt.imshow(Z, \"gray\", vmin = 0.0, vmax = 1.0)\n",
        "plt.colorbar()\n",
        "plt.show()"
      ]
    },
    {
      "cell_type": "code",
      "execution_count": 6,
      "id": "4e1471f2",
      "metadata": {
        "id": "4e1471f2",
        "outputId": "2413ffca-756b-4163-8301-d62722fe4d0d",
        "colab": {
          "base_uri": "https://localhost:8080/",
          "height": 269
        }
      },
      "outputs": [
        {
          "output_type": "display_data",
          "data": {
            "text/plain": [
              "<Figure size 432x288 with 2 Axes>"
            ],
            "image/png": "[encoded data removed]"
          },
          "metadata": {
            "needs_background": "light"
          }
        }
      ],
      "source": [
        "#가중치 바꿔보기\n",
        "\n",
        "X = np.arange(-1.0, 1.0, 0.2)\n",
        "Y = np.arange(-1.0, 1.0, 0.2)\n",
        "\n",
        "Z = np.zeros((10, 10))\n",
        "\n",
        "w_x = 2.5\n",
        "w_y = 0\n",
        "\n",
        "bias = 0.1\n",
        "\n",
        "for i in range(10):\n",
        "    for j in range(10):\n",
        "        u = X[i]*w_x + Y[j]*w_y + bias\n",
        "        y = 1 / (1 + np.exp(-u))\n",
        "        Z[j][i] = y\n",
        "        \n",
        "plt.imshow(Z, \"gray\", vmin = 0.0, vmax = 1.0)\n",
        "plt.colorbar()\n",
        "plt.show()"
      ]
    },
    {
      "cell_type": "code",
      "execution_count": 7,
      "id": "25750dac",
      "metadata": {
        "scrolled": true,
        "id": "25750dac",
        "outputId": "f1d4c79d-cc9d-4f05-d1ec-53e6e654871c",
        "colab": {
          "base_uri": "https://localhost:8080/",
          "height": 269
        }
      },
      "outputs": [
        {
          "output_type": "display_data",
          "data": {
            "text/plain": [
              "<Figure size 432x288 with 2 Axes>"
            ],
            "image/png": "[encoded data removed]"
          },
          "metadata": {
            "needs_background": "light"
          }
        }
      ],
      "source": [
        "#편향 바꿔보기\n",
        "\n",
        "X = np.arange(-1.0, 1.0, 0.2)\n",
        "Y = np.arange(-1.0, 1.0, 0.2)\n",
        "\n",
        "Z = np.zeros((10, 10))\n",
        "\n",
        "w_x = 2.5\n",
        "w_y = 3.0\n",
        "\n",
        "bias = 3.0\n",
        "\n",
        "for i in range(10):\n",
        "    for j in range(10):\n",
        "        u = X[i]*w_x + Y[j]*w_y + bias\n",
        "        y = 1 / (1 + np.exp(-u))\n",
        "        Z[j][i] = y\n",
        "        \n",
        "plt.imshow(Z, \"gray\", vmin = 0.0, vmax = 1.0)\n",
        "plt.colorbar()\n",
        "plt.show()"
      ]
    },
    {
      "cell_type": "markdown",
      "id": "723f91ed",
      "metadata": {
        "id": "723f91ed"
      },
      "source": [
        "신경망(회귀) 구현"
      ]
    },
    {
      "cell_type": "code",
      "execution_count": 8,
      "id": "a87bd318",
      "metadata": {
        "id": "a87bd318",
        "outputId": "331c6a54-8d75-4401-890c-2b97cd16aa78",
        "colab": {
          "base_uri": "https://localhost:8080/",
          "height": 269
        }
      },
      "outputs": [
        {
          "output_type": "display_data",
          "data": {
            "text/plain": [
              "<Figure size 432x288 with 2 Axes>"
            ],
            "image/png": "[encoded data removed]"
          },
          "metadata": {
            "needs_background": "light"
          }
        }
      ],
      "source": [
        "%matplotlib inline\n",
        "\n",
        "X = np.arange(-1.0, 1.0, 0.2)\n",
        "Y = np.arange(-1.0, 1.0, 0.2)\n",
        "\n",
        "Z = np.zeros((10, 10))\n",
        "\n",
        "#은닉층 가중치 (2X2 행렬)\n",
        "w_im = np.array([[4.0, 4.0],\n",
        "                [4.0, 4.0]])\n",
        "#출력층 가중치 (2X1 행렬)\n",
        "w_mo = np.array([[1.0],\n",
        "               [-1.0]])\n",
        "\n",
        "b_im = np.array([3.0, -3.0])\n",
        "b_mo = np.array([0.1])\n",
        "\n",
        "def middle_layer(x, w, b):\n",
        "    u = np.dot(x, w) + b\n",
        "    return 1 / (1 + np.exp(-u))\n",
        "\n",
        "def output_layer(x, w, b):\n",
        "    u = np.dot(x, w) + b\n",
        "    return u\n",
        "\n",
        "for i in range(10):\n",
        "    for j in range(10):\n",
        "        inp = np.array([X[i], Y[j]])\n",
        "        mid = middle_layer(inp, w_im, b_im)\n",
        "        out = output_layer(mid, w_mo, b_mo)\n",
        "        \n",
        "        Z[j][i] = out[0]\n",
        "        \n",
        "plt.imshow(Z, \"gray\", vmin = 0.0, vmax = 1.0)\n",
        "plt.colorbar()\n",
        "plt.show()"
      ]
    },
    {
      "cell_type": "markdown",
      "id": "d468b4b9",
      "metadata": {
        "id": "d468b4b9"
      },
      "source": [
        "신경망(분류) 구현"
      ]
    },
    {
      "cell_type": "code",
      "execution_count": 9,
      "id": "eebc7057",
      "metadata": {
        "id": "eebc7057",
        "outputId": "bd8dad9a-332a-477b-b6b0-00630fc6a3a3",
        "colab": {
          "base_uri": "https://localhost:8080/",
          "height": 265
        }
      },
      "outputs": [
        {
          "output_type": "display_data",
          "data": {
            "text/plain": [
              "<Figure size 432x288 with 1 Axes>"
            ],
            "image/png": "[encoded data removed]"
          },
          "metadata": {
            "needs_background": "light"
          }
        }
      ],
      "source": [
        "X = np.arange(-1.0, 1.0, 0.1)\n",
        "Y = np.arange(-1.0, 1.0, 0.1)\n",
        "\n",
        "\n",
        "#은닉층 가중치 (2X2 행렬)\n",
        "w_im = np.array([[1.0, 2.0],\n",
        "                [2.0, 3.0]])\n",
        "#출력층 가중치 (2X1 행렬)\n",
        "w_mo = np.array([[-1.0, 1.0],\n",
        "               [1.0, -1.0]])\n",
        "\n",
        "b_im = np.array([0.3, -0.3])\n",
        "b_mo = np.array([0.4, 0.1])\n",
        "\n",
        "def middle_layer(x, w, b):\n",
        "    u = np.dot(x, w) + b\n",
        "    return 1 / (1 + np.exp(-u))\n",
        "\n",
        "def output_layer(x, w, b):\n",
        "    u = np.dot(x, w) + b\n",
        "    return np.exp(u) / np.sum(np.exp(u))\n",
        "\n",
        "x_1 = []\n",
        "y_1 = []\n",
        "x_2 = []\n",
        "y_2 = []\n",
        "\n",
        "for i in range(20):\n",
        "    for j in range(20):\n",
        "        inp = np.array([X[i], Y[j]])\n",
        "        mid = middle_layer(inp, w_im, b_im)\n",
        "        out = output_layer(mid, w_mo, b_mo)\n",
        "        \n",
        "        if out[0] > out[1]:\n",
        "            x_1.append(X[i])\n",
        "            y_1.append(Y[j])\n",
        "        else:\n",
        "            x_2.append(X[i])\n",
        "            y_2.append(Y[j])\n",
        "            \n",
        "plt.scatter(x_1, y_1, marker = \"+\")\n",
        "plt.scatter(x_2, y_2, marker = \"o\")\n",
        "plt.show()"
      ]
    }
  ],
  "metadata": {
    "kernelspec": {
      "display_name": "Python 3",
      "language": "python",
      "name": "python3"
    },
    "language_info": {
      "codemirror_mode": {
        "name": "ipython",
        "version": 3
      },
      "file_extension": ".py",
      "mimetype": "text/x-python",
      "name": "python",
      "nbconvert_exporter": "python",
      "pygments_lexer": "ipython3",
      "version": "3.8.8"
    },
    "colab": {
      "provenance": [],
      "include_colab_link": true
    }
  },
  "nbformat": 4,
  "nbformat_minor": 5
}